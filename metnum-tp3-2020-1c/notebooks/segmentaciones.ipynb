{
 "cells": [
  {
   "cell_type": "code",
   "execution_count": 1,
   "metadata": {
    "collapsed": true,
    "jupyter": {
     "outputs_hidden": true
    }
   },
   "outputs": [
    {
     "name": "stdout",
     "output_type": "stream",
     "text": [
      "mkdir: cannot create directory ‘build’: File exists\n",
      "-- The C compiler identification is GNU 9.3.0\n",
      "-- The CXX compiler identification is GNU 9.3.0\n",
      "-- Check for working C compiler: /usr/bin/cc\n",
      "-- Check for working C compiler: /usr/bin/cc -- works\n",
      "-- Detecting C compiler ABI info\n",
      "-- Detecting C compiler ABI info - done\n",
      "-- Detecting C compile features\n",
      "-- Detecting C compile features - done\n",
      "-- Check for working CXX compiler: /usr/bin/c++\n",
      "-- Check for working CXX compiler: /usr/bin/c++ -- works\n",
      "-- Detecting CXX compiler ABI info\n",
      "-- Detecting CXX compiler ABI info - done\n",
      "-- Detecting CXX compile features\n",
      "-- Detecting CXX compile features - done\n",
      "Release mode\n",
      "-- Found PythonInterp: /home/tomy/.pyenv/versions/py3.6/bin/python (found version \"3.6.9\") \n",
      "-- Found PythonLibs: /home/tomy/.pyenv/versions/3.6.9/lib/libpython3.6m.a\n",
      "-- pybind11 v2.2.4\n",
      "-- Performing Test HAS_FLTO\n",
      "-- Performing Test HAS_FLTO - Success\n",
      "-- LTO enabled\n",
      "CMAKE_INSTALL_PREFIX=/home/tomy/Desktop/tp3/met-tp3/metnum-tp3-2020-1c\n",
      "-- Configuring done\n",
      "-- Generating done\n",
      "-- Build files have been written to: /home/tomy/Desktop/tp3/met-tp3/metnum-tp3-2020-1c/build\n",
      "\u001b[35m\u001b[1mScanning dependencies of target metnum\u001b[0m\n",
      "[ 33%] \u001b[32mBuilding CXX object CMakeFiles/metnum.dir/src/metnum.cpp.o\u001b[0m\n",
      "[ 66%] \u001b[32mBuilding CXX object CMakeFiles/metnum.dir/src/linear_regression.cpp.o\u001b[0m\n",
      "In file included from \u001b[01m\u001b[K/home/tomy/Desktop/tp3/met-tp3/metnum-tp3-2020-1c/src/linear_regression.cpp:6\u001b[m\u001b[K:\n",
      "\u001b[01m\u001b[K/home/tomy/Desktop/tp3/met-tp3/metnum-tp3-2020-1c/src/metrics.hpp:21:15:\u001b[m\u001b[K \u001b[01;35m\u001b[Kwarning: \u001b[m\u001b[K‘\u001b[01m\u001b[Kdouble apply_RMSLE(const Vector&, const Vector&, double (*)(double))\u001b[m\u001b[K’ defined but not used [\u001b[01;35m\u001b[K-Wunused-function\u001b[m\u001b[K]\n",
      "   21 | static double \u001b[01;35m\u001b[Kapply_RMSLE\u001b[m\u001b[K(const Vector& X, const Vector& Y, double (*f)(double)) {\n",
      "      |               \u001b[01;35m\u001b[K^~~~~~~~~~~\u001b[m\u001b[K\n",
      "\u001b[01m\u001b[K/home/tomy/Desktop/tp3/met-tp3/metnum-tp3-2020-1c/src/metrics.hpp:5:15:\u001b[m\u001b[K \u001b[01;35m\u001b[Kwarning: \u001b[m\u001b[K‘\u001b[01m\u001b[Kdouble apply_RMSE(const Vector&, const Vector&, double (*)(double))\u001b[m\u001b[K’ defined but not used [\u001b[01;35m\u001b[K-Wunused-function\u001b[m\u001b[K]\n",
      "    5 | static double \u001b[01;35m\u001b[Kapply_RMSE\u001b[m\u001b[K(const Vector& X, const Vector& Y, double (*f)(double)) {\n",
      "      |               \u001b[01;35m\u001b[K^~~~~~~~~~\u001b[m\u001b[K\n",
      "[100%] \u001b[32m\u001b[1mLinking CXX shared module metnum.cpython-36m-x86_64-linux-gnu.so\u001b[0m\n",
      "[100%] Built target metnum\n",
      "\u001b[36mInstall the project...\u001b[0m\n",
      "-- Install configuration: \"Release\"\n",
      "-- Installing: /home/tomy/Desktop/tp3/met-tp3/metnum-tp3-2020-1c/notebooks/metnum.cpython-36m-x86_64-linux-gnu.so\n",
      "/home/tomy/Desktop/tp3/met-tp3/metnum-tp3-2020-1c/notebooks\n",
      "Python 3.6.9\n"
     ]
    }
   ],
   "source": [
    "%run metricas.ipynb "
   ]
  },
  {
   "cell_type": "code",
   "execution_count": 2,
   "metadata": {},
   "outputs": [],
   "source": [
    "df_original = pd.read_csv('../data/train.csv')\n",
    "df = df_original.copy()\n",
    "#df"
   ]
  },
  {
   "cell_type": "markdown",
   "metadata": {},
   "source": [
    "SEGMENTACIÓN NUMÉRICA: \\\n",
    "la categoria seleccionada tiene que contener numeros, no palabras \\\n",
    "    n = cantidad de particiones \\\n",
    "    df es la matriz con toda la informacion \\\n",
    "    palabra es la columna por la cual segmentaremos"
   ]
  },
  {
   "cell_type": "code",
   "execution_count": 3,
   "metadata": {
    "collapsed": true,
    "jupyter": {
     "outputs_hidden": true
    }
   },
   "outputs": [],
   "source": [
    "def segXcatNum(df, n , palabra):\n",
    "    \n",
    "    df = df[df['ciudad']=='Mérida'].dropna() #TODO sin esto no anda, averiguar por que\n",
    "    \n",
    "    tam = df.shape[0]\n",
    "    linear_regressor = metnum.LinearRegression()\n",
    "    \n",
    "    \n",
    "    df.sort_values(\"precio\") #ordena de menor a mayor\n",
    "    \n",
    "    #tomo la columna de PALABRA y la de precios\n",
    "    categoria = df[palabra].values\n",
    "    precios = df['precio'].values\n",
    "    vector = np.array([])\n",
    "    for i in range(n):\n",
    "        \n",
    "        #tomo n bloques de longitud tam/n\n",
    "        bloqueCategoria = categoria[int(i * tam/n) : int((i+1) * (tam/n))]\n",
    "        bloquePrecios = precios[int(i * tam/n) : int((i+1) * tam/n)]\n",
    "        \n",
    "        #reshapeo\n",
    "        bloqueCategoria = bloqueCategoria.reshape(len(bloqueCategoria),1)\n",
    "        bloquePrecios = bloquePrecios.reshape(len(bloquePrecios),1)\n",
    "        \n",
    "        #fit y prediccion \n",
    "        linear_regressor.fit(bloqueCategoria, bloquePrecios)\n",
    "        lin = linear_regressor.predict(bloqueCategoria)\n",
    "        lin = lin.reshape(lin.shape[0])\n",
    "        #reshapeo para poder meterlo en un array con el formato necesario\n",
    "        vector = np.append(vector, lin)\n",
    "        \n",
    "    #df['prediction'] = vector ---- sirve para plotear cosas mas facil\n",
    "    return vector\n",
    "\n",
    "\n",
    "\n"
   ]
  },
  {
   "cell_type": "code",
   "execution_count": 4,
   "metadata": {
    "collapsed": true,
    "jupyter": {
     "outputs_hidden": true
    }
   },
   "outputs": [
    {
     "name": "stdout",
     "output_type": "stream",
     "text": [
      "(518,) (518,)\n",
      "Correlacion: \n",
      "  0.74217131938362 \n",
      " Determinacion: \n",
      " 0.5508182673156233 \n",
      " RMSE: \n",
      " 676017.2546645574 \n",
      " RMSLE: \n",
      " 0.43092419953725103\n"
     ]
    }
   ],
   "source": [
    "segmentado = segXcatNum(df, 5, 'metroscubiertos')\n",
    "merida = df[df['ciudad']=='Mérida'].dropna() #TODO sin esto no anda, averiguar por que\n",
    "original = merida['precio'].values\n",
    "original = original.reshape(len(original))\n",
    "print(original.shape, segmentado.shape)\n",
    "print(\n",
    "    \"Correlacion: \\n \",\n",
    "coefCorrel(segmentado, original), \"\\n\",\n",
    "    \"Determinacion: \\n\",\n",
    "    coefDet(segmentado, original),  \"\\n\",\n",
    "    \"RMSE: \\n\",\n",
    "RMSE(segmentado, original), \"\\n\",\n",
    "    \"RMSLE: \\n\", \n",
    "RMSLE(segmentado, original),\n",
    "\n",
    ")"
   ]
  },
  {
   "cell_type": "code",
   "execution_count": 5,
   "metadata": {
    "collapsed": true,
    "jupyter": {
     "outputs_hidden": true
    }
   },
   "outputs": [
    {
     "name": "stdout",
     "output_type": "stream",
     "text": [
      "<class 'pandas.core.frame.DataFrame'>\n",
      "RangeIndex: 240000 entries, 0 to 239999\n",
      "Data columns (total 23 columns):\n",
      " #   Column                      Non-Null Count   Dtype  \n",
      "---  ------                      --------------   -----  \n",
      " 0   id                          240000 non-null  int64  \n",
      " 1   titulo                      234613 non-null  object \n",
      " 2   descripcion                 238381 non-null  object \n",
      " 3   tipodepropiedad             239954 non-null  object \n",
      " 4   direccion                   186928 non-null  object \n",
      " 5   ciudad                      239628 non-null  object \n",
      " 6   provincia                   239845 non-null  object \n",
      " 7   antiguedad                  196445 non-null  float64\n",
      " 8   habitaciones                217529 non-null  float64\n",
      " 9   garages                     202235 non-null  float64\n",
      " 10  banos                       213779 non-null  float64\n",
      " 11  metroscubiertos             222600 non-null  float64\n",
      " 12  metrostotales               188533 non-null  float64\n",
      " 13  idzona                      211379 non-null  float64\n",
      " 14  lat                         116512 non-null  float64\n",
      " 15  lng                         116512 non-null  float64\n",
      " 16  fecha                       240000 non-null  object \n",
      " 17  gimnasio                    240000 non-null  float64\n",
      " 18  usosmultiples               240000 non-null  float64\n",
      " 19  piscina                     240000 non-null  float64\n",
      " 20  escuelascercanas            240000 non-null  float64\n",
      " 21  centroscomercialescercanos  240000 non-null  float64\n",
      " 22  precio                      240000 non-null  float64\n",
      "dtypes: float64(15), int64(1), object(7)\n",
      "memory usage: 42.1+ MB\n"
     ]
    }
   ],
   "source": [
    "df.info()"
   ]
  },
  {
   "cell_type": "markdown",
   "metadata": {},
   "source": [
    "# Ideas de modelos\n",
    "- Centros comerciales cercanos según antiguedad => centroscomercialescercanos = a x antiguedad + b\n",
    "- Feature engeniere -> si esta cerca de una gran ciudad sube el precio.  -> para hacer Segmentacion\n",
    "-                   -> Casa de gente con guita: gimnasio + piscina + tipopropiedad(casa, quinta, villa, alguno mas...) -> para hacer Segmentacion\n",
    "-                   -> Ponerle pesos a algunas variables categoricas y sumarlas -> \n",
    "- Usar PCA para extraer componentes principales"
   ]
  },
  {
   "cell_type": "code",
   "execution_count": 7,
   "metadata": {},
   "outputs": [
    {
     "data": {
      "text/plain": [
       "Casa                             141717\n",
       "Apartamento                       57341\n",
       "Casa en condominio                19297\n",
       "Terreno                            9945\n",
       "Local Comercial                    3055\n",
       "Oficina comercial                  1741\n",
       "Bodega comercial                   1406\n",
       "Edificio                           1396\n",
       "Terreno comercial                  1326\n",
       "Casa uso de suelo                   708\n",
       "Quinta Vacacional                   395\n",
       "Duplex                              343\n",
       "Villa                               340\n",
       "Inmuebles productivos urbanos       200\n",
       "Rancho                              170\n",
       "Local en centro comercial           165\n",
       "Departamento Compartido             141\n",
       "Otros                               134\n",
       "Nave industrial                      76\n",
       "Terreno industrial                   31\n",
       "Huerta                               20\n",
       "Lote                                  5\n",
       "Garage                                1\n",
       "Hospedaje                             1\n",
       "Name: tipodepropiedad, dtype: int64"
      ]
     },
     "execution_count": 7,
     "metadata": {},
     "output_type": "execute_result"
    }
   ],
   "source": [
    "df['tipodepropiedad'].value_counts(value_counts"
   ]
  },
  {
   "cell_type": "code",
   "execution_count": 8,
   "metadata": {
    "collapsed": true,
    "jupyter": {
     "outputs_hidden": true
    }
   },
   "outputs": [
    {
     "data": {
      "text/plain": [
       "95426       320000.0\n",
       "7534        350000.0\n",
       "8430        420000.0\n",
       "234074      440000.0\n",
       "149492      450000.0\n",
       "             ...    \n",
       "224173     9000000.0\n",
       "130327     9000000.0\n",
       "219406    10000000.0\n",
       "60297     12000000.0\n",
       "89786     12206700.0\n",
       "Name: precio, Length: 340, dtype: float64"
      ]
     },
     "execution_count": 8,
     "metadata": {},
     "output_type": "execute_result"
    }
   ],
   "source": [
    "df[df['tipodepropiedad'] == 'Villa'].sort_values('precio')['precio']"
   ]
  },
  {
   "cell_type": "code",
   "execution_count": 9,
   "metadata": {
    "collapsed": true,
    "jupyter": {
     "outputs_hidden": true
    }
   },
   "outputs": [
    {
     "data": {
      "text/plain": [
       "184407      310000.0\n",
       "30437       310000.0\n",
       "189220      310000.0\n",
       "133735      310000.0\n",
       "213712      310000.0\n",
       "             ...    \n",
       "215495    12500000.0\n",
       "92689     12500000.0\n",
       "173245    12500000.0\n",
       "232457    12515000.0\n",
       "209858    12521000.0\n",
       "Name: precio, Length: 141717, dtype: float64"
      ]
     },
     "execution_count": 9,
     "metadata": {},
     "output_type": "execute_result"
    }
   ],
   "source": [
    "df[df['tipodepropiedad'] == 'Casa'].sort_values('precio')['precio']"
   ]
  },
  {
   "cell_type": "code",
   "execution_count": 10,
   "metadata": {
    "collapsed": true,
    "jupyter": {
     "outputs_hidden": true
    }
   },
   "outputs": [],
   "source": [
    "def regresionPorSegmento(df, segment_column, features):\n",
    "    predictions_df = pd.DataFrame()\n",
    "\n",
    "    for segment in df[segment_column].unique():\n",
    "        linear_regressor = metnum.LinearRegression()\n",
    "        # Aquellos datos que no contengan la columna, no son tomados en cuenta\n",
    "        df_segment = df[df[segment_column] == segment]\n",
    "\n",
    "        A = df_segment[features].values\n",
    "        precios_reales = df_segment['precio'].values\n",
    "        \n",
    "        linear_regressor.fit(A, precios_reales)\n",
    "        precios_aproximados = linear_regressor.predict(A)\n",
    "        precios_aproximados = precios_aproximados.reshape(precios_aproximados.shape[0])\n",
    "        predictions_df[segment] = (linear_regressor, np.array(list(zip(precios_aproximados, precios_reales))))\n",
    "\n",
    "    return predictions_df"
   ]
  },
  {
   "cell_type": "code",
   "execution_count": 90,
   "metadata": {},
   "outputs": [
    {
     "data": {
      "text/plain": [
       "0    <metnum.LinearRegression object at 0x7fc11af54...\n",
       "1    [[2534271.3263237746, 2580000.0], [1726425.993...\n",
       "Name: Villa, dtype: object"
      ]
     },
     "execution_count": 90,
     "metadata": {},
     "output_type": "execute_result"
    }
   ],
   "source": [
    "# Modelo fruta\n",
    "df = df_original.copy()\n",
    "segment = 'tipodepropiedad'\n",
    "features = ['banos', \"habitaciones\"]   #'metrostotales', 'metroscubiertos', \"habitaciones\", \"banos\", \"antiguedad\"]\n",
    "df = df[df[segment].notna()]\n",
    "for f in features:\n",
    "    df = df[df[f].notna()]\n",
    "df = df.sort_values(segment)\n",
    "\n",
    "predictions = regresionPorSegmento(df, segment, features)\n",
    "predictions['Villa'][0]\n"
   ]
  },
  {
   "cell_type": "code",
   "execution_count": 106,
   "metadata": {},
   "outputs": [
    {
     "data": {
      "text/html": [
       "<div>\n",
       "<style scoped>\n",
       "    .dataframe tbody tr th:only-of-type {\n",
       "        vertical-align: middle;\n",
       "    }\n",
       "\n",
       "    .dataframe tbody tr th {\n",
       "        vertical-align: top;\n",
       "    }\n",
       "\n",
       "    .dataframe thead th {\n",
       "        text-align: right;\n",
       "    }\n",
       "</style>\n",
       "<table border=\"1\" class=\"dataframe\">\n",
       "  <thead>\n",
       "    <tr style=\"text-align: right;\">\n",
       "      <th></th>\n",
       "      <th>id</th>\n",
       "      <th>titulo</th>\n",
       "      <th>descripcion</th>\n",
       "      <th>tipodepropiedad</th>\n",
       "      <th>direccion</th>\n",
       "      <th>ciudad</th>\n",
       "      <th>provincia</th>\n",
       "      <th>antiguedad</th>\n",
       "      <th>habitaciones</th>\n",
       "      <th>garages</th>\n",
       "      <th>...</th>\n",
       "      <th>idzona</th>\n",
       "      <th>lat</th>\n",
       "      <th>lng</th>\n",
       "      <th>fecha</th>\n",
       "      <th>gimnasio</th>\n",
       "      <th>usosmultiples</th>\n",
       "      <th>piscina</th>\n",
       "      <th>escuelascercanas</th>\n",
       "      <th>centroscomercialescercanos</th>\n",
       "      <th>precio</th>\n",
       "    </tr>\n",
       "  </thead>\n",
       "  <tbody>\n",
       "    <tr>\n",
       "      <th>0</th>\n",
       "      <td>254099</td>\n",
       "      <td>depto. tipo a-402</td>\n",
       "      <td>depto. interior de 80.15m2, consta de sala com...</td>\n",
       "      <td>Apartamento</td>\n",
       "      <td>Avenida Division del Norte 2005</td>\n",
       "      <td>Benito Juárez</td>\n",
       "      <td>Distrito Federal</td>\n",
       "      <td>NaN</td>\n",
       "      <td>2.0</td>\n",
       "      <td>1.0</td>\n",
       "      <td>...</td>\n",
       "      <td>23533.0</td>\n",
       "      <td>NaN</td>\n",
       "      <td>NaN</td>\n",
       "      <td>2015-08-23 00:00:00</td>\n",
       "      <td>0.0</td>\n",
       "      <td>0.0</td>\n",
       "      <td>0.0</td>\n",
       "      <td>0.0</td>\n",
       "      <td>0.0</td>\n",
       "      <td>2273000.0</td>\n",
       "    </tr>\n",
       "    <tr>\n",
       "      <th>112460</th>\n",
       "      <td>275755</td>\n",
       "      <td>departamento en venta en lomas de vista hermosa</td>\n",
       "      <td>precioso depto. en planta baja con terraza-jar...</td>\n",
       "      <td>Apartamento</td>\n",
       "      <td>CAMINO AL OLIVO 95</td>\n",
       "      <td>Cuajimalpa de Morelos</td>\n",
       "      <td>Distrito Federal</td>\n",
       "      <td>15.0</td>\n",
       "      <td>3.0</td>\n",
       "      <td>NaN</td>\n",
       "      <td>...</td>\n",
       "      <td>23743.0</td>\n",
       "      <td>19.373584</td>\n",
       "      <td>-99.277461</td>\n",
       "      <td>2012-08-10 00:00:00</td>\n",
       "      <td>1.0</td>\n",
       "      <td>0.0</td>\n",
       "      <td>0.0</td>\n",
       "      <td>1.0</td>\n",
       "      <td>1.0</td>\n",
       "      <td>7620000.0</td>\n",
       "    </tr>\n",
       "    <tr>\n",
       "      <th>112452</th>\n",
       "      <td>156593</td>\n",
       "      <td>departamento en veronica anzures de remate hip...</td>\n",
       "      <td>tiempo de entrega 6-9 meses (adjudicado) \\nval...</td>\n",
       "      <td>Apartamento</td>\n",
       "      <td>Bahia de Chachalacas</td>\n",
       "      <td>Miguel Hidalgo</td>\n",
       "      <td>Distrito Federal</td>\n",
       "      <td>5.0</td>\n",
       "      <td>2.0</td>\n",
       "      <td>1.0</td>\n",
       "      <td>...</td>\n",
       "      <td>24559.0</td>\n",
       "      <td>NaN</td>\n",
       "      <td>NaN</td>\n",
       "      <td>2016-12-02 00:00:00</td>\n",
       "      <td>0.0</td>\n",
       "      <td>0.0</td>\n",
       "      <td>0.0</td>\n",
       "      <td>1.0</td>\n",
       "      <td>1.0</td>\n",
       "      <td>2550000.0</td>\n",
       "    </tr>\n",
       "    <tr>\n",
       "      <th>112445</th>\n",
       "      <td>234431</td>\n",
       "      <td>NaN</td>\n",
       "      <td>-- rav --    preicoso departamento en parque i...</td>\n",
       "      <td>Apartamento</td>\n",
       "      <td>Av. Jesus del Monte .</td>\n",
       "      <td>Huixquilucan</td>\n",
       "      <td>Edo. de México</td>\n",
       "      <td>5.0</td>\n",
       "      <td>2.0</td>\n",
       "      <td>2.0</td>\n",
       "      <td>...</td>\n",
       "      <td>55584.0</td>\n",
       "      <td>NaN</td>\n",
       "      <td>NaN</td>\n",
       "      <td>2015-07-16 00:00:00</td>\n",
       "      <td>0.0</td>\n",
       "      <td>0.0</td>\n",
       "      <td>0.0</td>\n",
       "      <td>0.0</td>\n",
       "      <td>0.0</td>\n",
       "      <td>4400000.0</td>\n",
       "    </tr>\n",
       "    <tr>\n",
       "      <th>112444</th>\n",
       "      <td>293813</td>\n",
       "      <td>departamento sobre av patriotismo exterior</td>\n",
       "      <td>excelente departamento sobre av patriotismo co...</td>\n",
       "      <td>Apartamento</td>\n",
       "      <td>Av. Patriotismo 352</td>\n",
       "      <td>Benito Juárez</td>\n",
       "      <td>Distrito Federal</td>\n",
       "      <td>5.0</td>\n",
       "      <td>3.0</td>\n",
       "      <td>1.0</td>\n",
       "      <td>...</td>\n",
       "      <td>23567.0</td>\n",
       "      <td>19.391542</td>\n",
       "      <td>-99.181678</td>\n",
       "      <td>2016-06-27 00:00:00</td>\n",
       "      <td>0.0</td>\n",
       "      <td>0.0</td>\n",
       "      <td>0.0</td>\n",
       "      <td>1.0</td>\n",
       "      <td>1.0</td>\n",
       "      <td>3100000.0</td>\n",
       "    </tr>\n",
       "    <tr>\n",
       "      <th>...</th>\n",
       "      <td>...</td>\n",
       "      <td>...</td>\n",
       "      <td>...</td>\n",
       "      <td>...</td>\n",
       "      <td>...</td>\n",
       "      <td>...</td>\n",
       "      <td>...</td>\n",
       "      <td>...</td>\n",
       "      <td>...</td>\n",
       "      <td>...</td>\n",
       "      <td>...</td>\n",
       "      <td>...</td>\n",
       "      <td>...</td>\n",
       "      <td>...</td>\n",
       "      <td>...</td>\n",
       "      <td>...</td>\n",
       "      <td>...</td>\n",
       "      <td>...</td>\n",
       "      <td>...</td>\n",
       "      <td>...</td>\n",
       "      <td>...</td>\n",
       "    </tr>\n",
       "    <tr>\n",
       "      <th>109155</th>\n",
       "      <td>238993</td>\n",
       "      <td>villa farallon</td>\n",
       "      <td>consta de: \\ncasa de 260m \\n4,000 m de área co...</td>\n",
       "      <td>Villa</td>\n",
       "      <td>FARALLON</td>\n",
       "      <td>Acapulco de Juárez</td>\n",
       "      <td>Guerrero</td>\n",
       "      <td>5.0</td>\n",
       "      <td>4.0</td>\n",
       "      <td>3.0</td>\n",
       "      <td>...</td>\n",
       "      <td>37865.0</td>\n",
       "      <td>16.872112</td>\n",
       "      <td>-99.869805</td>\n",
       "      <td>2016-06-06 00:00:00</td>\n",
       "      <td>0.0</td>\n",
       "      <td>0.0</td>\n",
       "      <td>1.0</td>\n",
       "      <td>1.0</td>\n",
       "      <td>1.0</td>\n",
       "      <td>2600000.0</td>\n",
       "    </tr>\n",
       "    <tr>\n",
       "      <th>131103</th>\n",
       "      <td>208521</td>\n",
       "      <td>finca/rancho en venta en el chapotito</td>\n",
       "      <td>nocnok id: mx15-bi6879. hermosa quinta con pre...</td>\n",
       "      <td>Villa</td>\n",
       "      <td>KILOMETRO  #7</td>\n",
       "      <td>Los Herreras</td>\n",
       "      <td>Nuevo León</td>\n",
       "      <td>NaN</td>\n",
       "      <td>8.0</td>\n",
       "      <td>NaN</td>\n",
       "      <td>...</td>\n",
       "      <td>NaN</td>\n",
       "      <td>25.658087</td>\n",
       "      <td>-100.151845</td>\n",
       "      <td>2016-12-20 00:00:00</td>\n",
       "      <td>0.0</td>\n",
       "      <td>0.0</td>\n",
       "      <td>0.0</td>\n",
       "      <td>0.0</td>\n",
       "      <td>0.0</td>\n",
       "      <td>6000000.0</td>\n",
       "    </tr>\n",
       "    <tr>\n",
       "      <th>111092</th>\n",
       "      <td>76463</td>\n",
       "      <td>quinta hermosa en venta en santiago-cerca de l...</td>\n",
       "      <td>&lt;p&gt;informes al nextel  - quinta hermosa con ar...</td>\n",
       "      <td>Villa</td>\n",
       "      <td>NaN</td>\n",
       "      <td>Santiago</td>\n",
       "      <td>Nuevo León</td>\n",
       "      <td>11.0</td>\n",
       "      <td>1.0</td>\n",
       "      <td>NaN</td>\n",
       "      <td>...</td>\n",
       "      <td>130645.0</td>\n",
       "      <td>NaN</td>\n",
       "      <td>NaN</td>\n",
       "      <td>2016-01-04 00:00:00</td>\n",
       "      <td>0.0</td>\n",
       "      <td>0.0</td>\n",
       "      <td>0.0</td>\n",
       "      <td>0.0</td>\n",
       "      <td>0.0</td>\n",
       "      <td>1750000.0</td>\n",
       "    </tr>\n",
       "    <tr>\n",
       "      <th>57753</th>\n",
       "      <td>110552</td>\n",
       "      <td>villa de playa en el bello puerto de san crisa...</td>\n",
       "      <td>para llegar a san crisanto desde mérida, prime...</td>\n",
       "      <td>Villa</td>\n",
       "      <td>NaN</td>\n",
       "      <td>Sinanché</td>\n",
       "      <td>Yucatán</td>\n",
       "      <td>NaN</td>\n",
       "      <td>1.0</td>\n",
       "      <td>NaN</td>\n",
       "      <td>...</td>\n",
       "      <td>NaN</td>\n",
       "      <td>21.351819</td>\n",
       "      <td>-89.187017</td>\n",
       "      <td>2016-01-06 00:00:00</td>\n",
       "      <td>0.0</td>\n",
       "      <td>0.0</td>\n",
       "      <td>0.0</td>\n",
       "      <td>0.0</td>\n",
       "      <td>0.0</td>\n",
       "      <td>590000.0</td>\n",
       "    </tr>\n",
       "    <tr>\n",
       "      <th>121268</th>\n",
       "      <td>122523</td>\n",
       "      <td>villa</td>\n",
       "      <td>&lt;p&gt;preciosa casa de 3 niveles, sotano consta d...</td>\n",
       "      <td>Villa</td>\n",
       "      <td>VILLA CONDESA</td>\n",
       "      <td>Acapulco de Juárez</td>\n",
       "      <td>Guerrero</td>\n",
       "      <td>0.0</td>\n",
       "      <td>3.0</td>\n",
       "      <td>1.0</td>\n",
       "      <td>...</td>\n",
       "      <td>37861.0</td>\n",
       "      <td>16.877909</td>\n",
       "      <td>-99.854900</td>\n",
       "      <td>2013-04-03 00:00:00</td>\n",
       "      <td>0.0</td>\n",
       "      <td>0.0</td>\n",
       "      <td>1.0</td>\n",
       "      <td>1.0</td>\n",
       "      <td>1.0</td>\n",
       "      <td>2200000.0</td>\n",
       "    </tr>\n",
       "  </tbody>\n",
       "</table>\n",
       "<p>209150 rows × 23 columns</p>\n",
       "</div>"
      ],
      "text/plain": [
       "            id                                             titulo  \\\n",
       "0       254099                                  depto. tipo a-402   \n",
       "112460  275755    departamento en venta en lomas de vista hermosa   \n",
       "112452  156593  departamento en veronica anzures de remate hip...   \n",
       "112445  234431                                                NaN   \n",
       "112444  293813        departamento sobre av patriotismo exterior    \n",
       "...        ...                                                ...   \n",
       "109155  238993                                     villa farallon   \n",
       "131103  208521              finca/rancho en venta en el chapotito   \n",
       "111092   76463  quinta hermosa en venta en santiago-cerca de l...   \n",
       "57753   110552  villa de playa en el bello puerto de san crisa...   \n",
       "121268  122523                                             villa    \n",
       "\n",
       "                                              descripcion tipodepropiedad  \\\n",
       "0       depto. interior de 80.15m2, consta de sala com...     Apartamento   \n",
       "112460  precioso depto. en planta baja con terraza-jar...     Apartamento   \n",
       "112452  tiempo de entrega 6-9 meses (adjudicado) \\nval...     Apartamento   \n",
       "112445  -- rav --    preicoso departamento en parque i...     Apartamento   \n",
       "112444  excelente departamento sobre av patriotismo co...     Apartamento   \n",
       "...                                                   ...             ...   \n",
       "109155  consta de: \\ncasa de 260m \\n4,000 m de área co...           Villa   \n",
       "131103  nocnok id: mx15-bi6879. hermosa quinta con pre...           Villa   \n",
       "111092  <p>informes al nextel  - quinta hermosa con ar...           Villa   \n",
       "57753   para llegar a san crisanto desde mérida, prime...           Villa   \n",
       "121268  <p>preciosa casa de 3 niveles, sotano consta d...           Villa   \n",
       "\n",
       "                              direccion                 ciudad  \\\n",
       "0       Avenida Division del Norte 2005          Benito Juárez   \n",
       "112460               CAMINO AL OLIVO 95  Cuajimalpa de Morelos   \n",
       "112452             Bahia de Chachalacas         Miguel Hidalgo   \n",
       "112445            Av. Jesus del Monte .           Huixquilucan   \n",
       "112444             Av. Patriotismo 352           Benito Juárez   \n",
       "...                                 ...                    ...   \n",
       "109155                         FARALLON     Acapulco de Juárez   \n",
       "131103                    KILOMETRO  #7           Los Herreras   \n",
       "111092                              NaN               Santiago   \n",
       "57753                               NaN               Sinanché   \n",
       "121268                    VILLA CONDESA     Acapulco de Juárez   \n",
       "\n",
       "               provincia  antiguedad  habitaciones  garages  ...    idzona  \\\n",
       "0       Distrito Federal         NaN           2.0      1.0  ...   23533.0   \n",
       "112460  Distrito Federal        15.0           3.0      NaN  ...   23743.0   \n",
       "112452  Distrito Federal         5.0           2.0      1.0  ...   24559.0   \n",
       "112445    Edo. de México         5.0           2.0      2.0  ...   55584.0   \n",
       "112444  Distrito Federal         5.0           3.0      1.0  ...   23567.0   \n",
       "...                  ...         ...           ...      ...  ...       ...   \n",
       "109155          Guerrero         5.0           4.0      3.0  ...   37865.0   \n",
       "131103        Nuevo León         NaN           8.0      NaN  ...       NaN   \n",
       "111092        Nuevo León        11.0           1.0      NaN  ...  130645.0   \n",
       "57753            Yucatán         NaN           1.0      NaN  ...       NaN   \n",
       "121268          Guerrero         0.0           3.0      1.0  ...   37861.0   \n",
       "\n",
       "              lat         lng                fecha  gimnasio  usosmultiples  \\\n",
       "0             NaN         NaN  2015-08-23 00:00:00       0.0            0.0   \n",
       "112460  19.373584  -99.277461  2012-08-10 00:00:00       1.0            0.0   \n",
       "112452        NaN         NaN  2016-12-02 00:00:00       0.0            0.0   \n",
       "112445        NaN         NaN  2015-07-16 00:00:00       0.0            0.0   \n",
       "112444  19.391542  -99.181678  2016-06-27 00:00:00       0.0            0.0   \n",
       "...           ...         ...                  ...       ...            ...   \n",
       "109155  16.872112  -99.869805  2016-06-06 00:00:00       0.0            0.0   \n",
       "131103  25.658087 -100.151845  2016-12-20 00:00:00       0.0            0.0   \n",
       "111092        NaN         NaN  2016-01-04 00:00:00       0.0            0.0   \n",
       "57753   21.351819  -89.187017  2016-01-06 00:00:00       0.0            0.0   \n",
       "121268  16.877909  -99.854900  2013-04-03 00:00:00       0.0            0.0   \n",
       "\n",
       "       piscina  escuelascercanas  centroscomercialescercanos     precio  \n",
       "0          0.0               0.0                         0.0  2273000.0  \n",
       "112460     0.0               1.0                         1.0  7620000.0  \n",
       "112452     0.0               1.0                         1.0  2550000.0  \n",
       "112445     0.0               0.0                         0.0  4400000.0  \n",
       "112444     0.0               1.0                         1.0  3100000.0  \n",
       "...        ...               ...                         ...        ...  \n",
       "109155     1.0               1.0                         1.0  2600000.0  \n",
       "131103     0.0               0.0                         0.0  6000000.0  \n",
       "111092     0.0               0.0                         0.0  1750000.0  \n",
       "57753      0.0               0.0                         0.0   590000.0  \n",
       "121268     1.0               1.0                         1.0  2200000.0  \n",
       "\n",
       "[209150 rows x 23 columns]"
      ]
     },
     "execution_count": 106,
     "metadata": {},
     "output_type": "execute_result"
    }
   ],
   "source": [
    "df"
   ]
  },
  {
   "cell_type": "code",
   "execution_count": 12,
   "metadata": {
    "collapsed": true,
    "jupyter": {
     "outputs_hidden": true
    }
   },
   "outputs": [],
   "source": [
    "def print_heat_map(df, x_label, y_label, z_label):\n",
    "    x_values = df[x_label].unique()\n",
    "    y_values = df[y_label].unique()\n",
    "    mat = np.ndarray((len(x_values), len(y_values)))\n",
    "    i = 0\n",
    "    for x in x_values:\n",
    "        j = 0\n",
    "        for y in y_values:\n",
    "            val = df[df[x_label]==x][df[y_label]==y][z_label]\n",
    "            val = np.mean(val) if len(val) != 0 else 0\n",
    "            mat[i, j] = val\n",
    "            j+=1\n",
    "        i+=1\n",
    "    plt.imshow(mat, cmap='hot')"
   ]
  },
  {
   "cell_type": "code",
   "execution_count": 13,
   "metadata": {
    "collapsed": true,
    "jupyter": {
     "outputs_hidden": true
    }
   },
   "outputs": [
    {
     "name": "stderr",
     "output_type": "stream",
     "text": [
      "/home/tomy/.pyenv/versions/3.6.9/envs/py3.6/lib/python3.6/site-packages/ipykernel_launcher.py:8: SettingWithCopyWarning: \n",
      "A value is trying to be set on a copy of a slice from a DataFrame\n",
      "\n",
      "See the caveats in the documentation: https://pandas.pydata.org/pandas-docs/stable/user_guide/indexing.html#returning-a-view-versus-a-copy\n",
      "  \n",
      "/home/tomy/.pyenv/versions/3.6.9/envs/py3.6/lib/python3.6/site-packages/ipykernel_launcher.py:9: UserWarning: Boolean Series key will be reindexed to match DataFrame index.\n",
      "  if __name__ == '__main__':\n"
     ]
    },
    {
     "data": {
      "image/png": "[encoded data removed]",
      "text/plain": [
       "<Figure size 432x288 with 1 Axes>"
      ]
     },
     "metadata": {
      "needs_background": "light"
     },
     "output_type": "display_data"
    }
   ],
   "source": [
    "import seaborn as sns\n",
    "\n",
    "# sns.scatterplot(data=df, x='metroscubiertos', y='precio')\n",
    "\n",
    "df_new = df.copy()\n",
    "df_new[\"precio_aproximado\"] = np.nan\n",
    "for s in df_new[segment].unique():\n",
    "    df_new['precio_aproximado'][df_new[segment]==s] = predictions.loc[1, s][:,0]\n",
    "# g = sns.FacetGrid(df_new, col=segment, col_wrap=5, height=4)\n",
    "# g.map(plt.scatter, \"metrostotales\", \"precio\", alpha=0.3)\n",
    "# g.map(plt.plot, \"metroscubiertos\", \"precio_aproximado\", color=\"red\")\n",
    "df_new.astype({\"precio_aproximado\": int})\n",
    "print_heat_map(df_new, features[0], features[1], \"precio_aproximado\")"
   ]
  },
  {
   "cell_type": "code",
   "execution_count": 87,
   "metadata": {},
   "outputs": [
    {
     "data": {
      "text/plain": [
       "<matplotlib.collections.PolyCollection at 0x7fc11afd2e10>"
      ]
     },
     "execution_count": 87,
     "metadata": {},
     "output_type": "execute_result"
    },
    {
     "data": {
      "image/png": "[encoded data removed]",
      "text/plain": [
       "<Figure size 432x288 with 1 Axes>"
      ]
     },
     "metadata": {
      "needs_background": "light"
     },
     "output_type": "display_data"
    }
   ],
   "source": [
    "#Prueba de un analisis. Resultado arrojado vs resultado original.\n",
    "\n",
    "#los ordeno de menor a mayor para que sea mas claro el analisis\n",
    "X = np.sort(segmentado) #no se como garcha leer los que hizo diego, esto es un ejemplo\n",
    "Y = np.sort(original)\n",
    "\n",
    "plt.plot(X, color='red')\n",
    "plt.plot(Y, color='blue')\n",
    "\n",
    "\n",
    "plt.fill_between(np.arange(np.size(X)), X, Y, X>Y, color='pink')\n",
    "plt.fill_between(np.arange(np.size(X)), X, Y, X<Y, color='lightblue')\n",
    "\n",
    "#analisis: Con precios chicos, segmentado es apenas mayor del original. Luego con precios grandes es bastante menor"
   ]
  },
  {
   "cell_type": "code",
   "execution_count": 103,
   "metadata": {},
   "outputs": [
    {
     "data": {
      "text/plain": [
       "<matplotlib.collections.PolyCollection at 0x7fc11b028208>"
      ]
     },
     "execution_count": 103,
     "metadata": {},
     "output_type": "execute_result"
    },
    {
     "data": {
      "image/png": "[encoded data removed]",
      "text/plain": [
       "<Figure size 432x288 with 1 Axes>"
      ]
     },
     "metadata": {
      "needs_background": "light"
     },
     "output_type": "display_data"
    }
   ],
   "source": [
    "#ejemplo con Villas\n",
    "X = np.sort(predictions['Villa'][1][:, 0]) #aproximado\n",
    "Y = np.sort(predictions['Villa'][1][:, 1]) #real\n",
    "\n",
    "plt.plot(X, color='red')\n",
    "plt.plot(Y, color='blue')\n",
    "\n",
    "\n",
    "plt.fill_between(np.arange(np.size(X)), X, Y, X>Y, color='pink')\n",
    "plt.fill_between(np.arange(np.size(X)), X, Y, X<Y, color='lightblue')\n"
   ]
  },
  {
   "cell_type": "code",
   "execution_count": 188,
   "metadata": {},
   "outputs": [
    {
     "data": {
      "text/plain": [
       "<matplotlib.collections.PolyCollection at 0x7fc11ffef828>"
      ]
     },
     "execution_count": 188,
     "metadata": {},
     "output_type": "execute_result"
    },
    {
     "data": {
      "image/png": "[encoded data removed]",
      "text/plain": [
       "<Figure size 432x288 with 1 Axes>"
      ]
     },
     "metadata": {
      "needs_background": "light"
     },
     "output_type": "display_data"
    }
   ],
   "source": [
    "#por tipo de propiedad\n",
    "tipos_aux = df['tipodepropiedad']\n",
    "tiposProps = tipos_aux.drop_duplicates()\n",
    "tipos = np.array(tiposProps)\n",
    "X = np.array([])\n",
    "Y = np.array([])\n",
    "for t in tipos:\n",
    "    X = np.append(X, predictions[t][1][:, 0]) #aproximado\n",
    "    Y = np.append(Y, predictions[t][1][:, 1]) #real\n",
    "\n",
    "\n",
    "\n",
    "X = np.sort(X)\n",
    "Y = np.sort(Y)\n",
    "plt.plot(X, color='red')\n",
    "plt.plot(Y, color='blue')\n",
    "\n",
    "\n",
    "plt.fill_between(np.arange(np.size(X)), X, Y, X>Y, color='pink')\n",
    "plt.fill_between(np.arange(np.size(Y)), X, Y, X<Y, color='lightblue')\n",
    "\n",
    "#conclusion: "
   ]
  },
  {
   "cell_type": "code",
   "execution_count": null,
   "metadata": {},
   "outputs": [],
   "source": [
    "pre"
   ]
  },
  {
   "cell_type": "code",
   "execution_count": 179,
   "metadata": {},
   "outputs": [
    {
     "data": {
      "text/plain": [
       "array([3724430.76534251, 5586646.14801376, 1735294.08306305, ...,\n",
       "       7575782.83029322, 3597509.4657343 , 1735294.08306305])"
      ]
     },
     "execution_count": 179,
     "metadata": {},
     "output_type": "execute_result"
    }
   ],
   "source": [
    "predictions[tipos[0]][1][:, 0]"
   ]
  }
 ],
 "metadata": {
  "kernelspec": {
   "display_name": "Python 3",
   "language": "python",
   "name": "python3"
  },
  "language_info": {
   "codemirror_mode": {
    "name": "ipython",
    "version": 3
   },
   "file_extension": ".py",
   "mimetype": "text/x-python",
   "name": "python",
   "nbconvert_exporter": "python",
   "pygments_lexer": "ipython3",
   "version": "3.6.9"
  }
 },
 "nbformat": 4,
 "nbformat_minor": 4
}
