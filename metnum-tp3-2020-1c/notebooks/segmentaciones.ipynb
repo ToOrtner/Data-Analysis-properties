{
 "cells": [
  {
   "cell_type": "code",
   "execution_count": 1,
   "metadata": {
    "collapsed": true,
    "jupyter": {
     "outputs_hidden": true
    }
   },
   "outputs": [
    {
     "name": "stdout",
     "output_type": "stream",
     "text": [
      "mkdir: cannot create directory ‘build’: File exists\n",
      "-- The C compiler identification is GNU 9.3.0\n",
      "-- The CXX compiler identification is GNU 9.3.0\n",
      "-- Check for working C compiler: /usr/bin/cc\n",
      "-- Check for working C compiler: /usr/bin/cc -- works\n",
      "-- Detecting C compiler ABI info\n",
      "-- Detecting C compiler ABI info - done\n",
      "-- Detecting C compile features\n",
      "-- Detecting C compile features - done\n",
      "-- Check for working CXX compiler: /usr/bin/c++\n",
      "-- Check for working CXX compiler: /usr/bin/c++ -- works\n",
      "-- Detecting CXX compiler ABI info\n",
      "-- Detecting CXX compiler ABI info - done\n",
      "-- Detecting CXX compile features\n",
      "-- Detecting CXX compile features - done\n",
      "Release mode\n",
      "-- Found PythonInterp: /home/tomy/.pyenv/versions/py3.6/bin/python (found version \"3.6.9\") \n",
      "-- Found PythonLibs: /home/tomy/.pyenv/versions/3.6.9/lib/libpython3.6m.a\n",
      "-- pybind11 v2.2.4\n",
      "-- Performing Test HAS_FLTO\n",
      "-- Performing Test HAS_FLTO - Success\n",
      "-- LTO enabled\n",
      "CMAKE_INSTALL_PREFIX=/home/tomy/Desktop/tp3/met-tp3/metnum-tp3-2020-1c\n",
      "-- Configuring done\n",
      "-- Generating done\n",
      "-- Build files have been written to: /home/tomy/Desktop/tp3/met-tp3/metnum-tp3-2020-1c/build\n",
      "\u001b[35m\u001b[1mScanning dependencies of target metnum\u001b[0m\n",
      "[ 33%] \u001b[32mBuilding CXX object CMakeFiles/metnum.dir/src/metnum.cpp.o\u001b[0m\n",
      "[ 66%] \u001b[32mBuilding CXX object CMakeFiles/metnum.dir/src/linear_regression.cpp.o\u001b[0m\n",
      "In file included from \u001b[01m\u001b[K/home/tomy/Desktop/tp3/met-tp3/metnum-tp3-2020-1c/src/linear_regression.cpp:6\u001b[m\u001b[K:\n",
      "\u001b[01m\u001b[K/home/tomy/Desktop/tp3/met-tp3/metnum-tp3-2020-1c/src/metrics.hpp:21:15:\u001b[m\u001b[K \u001b[01;35m\u001b[Kwarning: \u001b[m\u001b[K‘\u001b[01m\u001b[Kdouble apply_RMSLE(const Vector&, const Vector&, double (*)(double))\u001b[m\u001b[K’ defined but not used [\u001b[01;35m\u001b[K-Wunused-function\u001b[m\u001b[K]\n",
      "   21 | static double \u001b[01;35m\u001b[Kapply_RMSLE\u001b[m\u001b[K(const Vector& X, const Vector& Y, double (*f)(double)) {\n",
      "      |               \u001b[01;35m\u001b[K^~~~~~~~~~~\u001b[m\u001b[K\n",
      "\u001b[01m\u001b[K/home/tomy/Desktop/tp3/met-tp3/metnum-tp3-2020-1c/src/metrics.hpp:5:15:\u001b[m\u001b[K \u001b[01;35m\u001b[Kwarning: \u001b[m\u001b[K‘\u001b[01m\u001b[Kdouble apply_RMSE(const Vector&, const Vector&, double (*)(double))\u001b[m\u001b[K’ defined but not used [\u001b[01;35m\u001b[K-Wunused-function\u001b[m\u001b[K]\n",
      "    5 | static double \u001b[01;35m\u001b[Kapply_RMSE\u001b[m\u001b[K(const Vector& X, const Vector& Y, double (*f)(double)) {\n",
      "      |               \u001b[01;35m\u001b[K^~~~~~~~~~\u001b[m\u001b[K\n",
      "[100%] \u001b[32m\u001b[1mLinking CXX shared module metnum.cpython-36m-x86_64-linux-gnu.so\u001b[0m\n",
      "[100%] Built target metnum\n",
      "\u001b[36mInstall the project...\u001b[0m\n",
      "-- Install configuration: \"Release\"\n",
      "-- Installing: /home/tomy/Desktop/tp3/met-tp3/metnum-tp3-2020-1c/notebooks/metnum.cpython-36m-x86_64-linux-gnu.so\n",
      "/home/tomy/Desktop/tp3/met-tp3/metnum-tp3-2020-1c/notebooks\n",
      "Python 3.6.9\n"
     ]
    }
   ],
   "source": [
    "%run metricas.ipynb "
   ]
  },
  {
   "cell_type": "code",
   "execution_count": 2,
   "metadata": {},
   "outputs": [],
   "source": [
    "df_original = pd.read_csv('../data/train.csv')\n",
    "df = df_original.copy()\n",
    "#df"
   ]
  },
  {
   "cell_type": "markdown",
   "metadata": {},
   "source": [
    "SEGMENTACIÓN NUMÉRICA: \\\n",
    "la categoria seleccionada tiene que contener numeros, no palabras \\\n",
    "    n = cantidad de particiones \\\n",
    "    df es la matriz con toda la informacion \\\n",
    "    palabra es la columna por la cual segmentaremos"
   ]
  },
  {
   "cell_type": "code",
   "execution_count": 3,
   "metadata": {
    "collapsed": true,
    "jupyter": {
     "outputs_hidden": true
    }
   },
   "outputs": [],
   "source": [
    "def segXcatNum(df, n , palabra):\n",
    "    \n",
    "    df = df[df['ciudad']=='Mérida'].dropna() #TODO sin esto no anda, averiguar por que\n",
    "    \n",
    "    tam = df.shape[0]\n",
    "    linear_regressor = metnum.LinearRegression()\n",
    "    \n",
    "    \n",
    "    df.sort_values(\"precio\") #ordena de menor a mayor\n",
    "    \n",
    "    #tomo la columna de PALABRA y la de precios\n",
    "    categoria = df[palabra].values\n",
    "    precios = df['precio'].values\n",
    "    vector = np.array([])\n",
    "    for i in range(n):\n",
    "        \n",
    "        #tomo n bloques de longitud tam/n\n",
    "        bloqueCategoria = categoria[int(i * tam/n) : int((i+1) * (tam/n))]\n",
    "        bloquePrecios = precios[int(i * tam/n) : int((i+1) * tam/n)]\n",
    "        \n",
    "        #reshapeo\n",
    "        bloqueCategoria = bloqueCategoria.reshape(len(bloqueCategoria),1)\n",
    "        bloquePrecios = bloquePrecios.reshape(len(bloquePrecios),1)\n",
    "        \n",
    "        #fit y prediccion \n",
    "        linear_regressor.fit(bloqueCategoria, bloquePrecios)\n",
    "        lin = linear_regressor.predict(bloqueCategoria)\n",
    "        lin = lin.reshape(lin.shape[0])\n",
    "        #reshapeo para poder meterlo en un array con el formato necesario\n",
    "        vector = np.append(vector, lin)\n",
    "        \n",
    "    #df['prediction'] = vector ---- sirve para plotear cosas mas facil\n",
    "    return vector\n",
    "\n",
    "\n",
    "\n"
   ]
  },
  {
   "cell_type": "code",
   "execution_count": 4,
   "metadata": {
    "collapsed": true,
    "jupyter": {
     "outputs_hidden": true
    }
   },
   "outputs": [
    {
     "name": "stdout",
     "output_type": "stream",
     "text": [
      "(518,) (518,)\n",
      "Correlacion: \n",
      "  0.74217131938362 \n",
      " Determinacion: \n",
      " 0.5508182673156233 \n",
      " RMSE: \n",
      " 676017.2546645574 \n",
      " RMSLE: \n",
      " 0.43092419953725103\n"
     ]
    }
   ],
   "source": [
    "segmentado = segXcatNum(df, 5, 'metroscubiertos')\n",
    "merida = df[df['ciudad']=='Mérida'].dropna() #TODO sin esto no anda, averiguar por que\n",
    "original = merida['precio'].values\n",
    "original = original.reshape(len(original))\n",
    "print(original.shape, segmentado.shape)\n",
    "print(\n",
    "    \"Correlacion: \\n \",\n",
    "coefCorrel(segmentado, original), \"\\n\",\n",
    "    \"Determinacion: \\n\",\n",
    "    coefDet(segmentado, original),  \"\\n\",\n",
    "    \"RMSE: \\n\",\n",
    "RMSE(segmentado, original), \"\\n\",\n",
    "    \"RMSLE: \\n\", \n",
    "RMSLE(segmentado, original),\n",
    "\n",
    ")"
   ]
  },
  {
   "cell_type": "code",
   "execution_count": 5,
   "metadata": {
    "collapsed": true,
    "jupyter": {
     "outputs_hidden": true
    }
   },
   "outputs": [
    {
     "name": "stdout",
     "output_type": "stream",
     "text": [
      "<class 'pandas.core.frame.DataFrame'>\n",
      "RangeIndex: 240000 entries, 0 to 239999\n",
      "Data columns (total 23 columns):\n",
      " #   Column                      Non-Null Count   Dtype  \n",
      "---  ------                      --------------   -----  \n",
      " 0   id                          240000 non-null  int64  \n",
      " 1   titulo                      234613 non-null  object \n",
      " 2   descripcion                 238381 non-null  object \n",
      " 3   tipodepropiedad             239954 non-null  object \n",
      " 4   direccion                   186928 non-null  object \n",
      " 5   ciudad                      239628 non-null  object \n",
      " 6   provincia                   239845 non-null  object \n",
      " 7   antiguedad                  196445 non-null  float64\n",
      " 8   habitaciones                217529 non-null  float64\n",
      " 9   garages                     202235 non-null  float64\n",
      " 10  banos                       213779 non-null  float64\n",
      " 11  metroscubiertos             222600 non-null  float64\n",
      " 12  metrostotales               188533 non-null  float64\n",
      " 13  idzona                      211379 non-null  float64\n",
      " 14  lat                         116512 non-null  float64\n",
      " 15  lng                         116512 non-null  float64\n",
      " 16  fecha                       240000 non-null  object \n",
      " 17  gimnasio                    240000 non-null  float64\n",
      " 18  usosmultiples               240000 non-null  float64\n",
      " 19  piscina                     240000 non-null  float64\n",
      " 20  escuelascercanas            240000 non-null  float64\n",
      " 21  centroscomercialescercanos  240000 non-null  float64\n",
      " 22  precio                      240000 non-null  float64\n",
      "dtypes: float64(15), int64(1), object(7)\n",
      "memory usage: 42.1+ MB\n"
     ]
    }
   ],
   "source": [
    "df.info()"
   ]
  },
  {
   "cell_type": "code",
   "execution_count": 6,
   "metadata": {
    "collapsed": true,
    "jupyter": {
     "outputs_hidden": true
    }
   },
   "outputs": [],
   "source": [
    "# Ideas de "
   ]
  },
  {
   "cell_type": "markdown",
   "metadata": {
    "jupyter": {
     "source_hidden": true
    }
   },
   "source": [
    "# Ideas de modelos\n",
    "- Centros comerciales cercanos según antiguedad => centroscomercialescercanos = a x antiguedad + b\n",
    "- Feature engeniere -> si esta cerca de una gran ciudad sube el precio.  -> para hacer Segmentacion\n",
    "-                   -> Casa de gente con guita: gimnasio + piscina + tipopropiedad(casa, quinta, villa, alguno mas...) -> para hacer Segmentacion\n",
    "-                   -> Ponerle pesos a algunas variables categoricas y sumarlas -> \n",
    "- Usar PCA para extraer componentes principales"
   ]
  },
  {
   "cell_type": "code",
   "execution_count": 7,
   "metadata": {
    "collapsed": true,
    "jupyter": {
     "outputs_hidden": true
    }
   },
   "outputs": [
    {
     "data": {
      "text/plain": [
       "Casa                             141717\n",
       "Apartamento                       57341\n",
       "Casa en condominio                19297\n",
       "Terreno                            9945\n",
       "Local Comercial                    3055\n",
       "Oficina comercial                  1741\n",
       "Bodega comercial                   1406\n",
       "Edificio                           1396\n",
       "Terreno comercial                  1326\n",
       "Casa uso de suelo                   708\n",
       "Quinta Vacacional                   395\n",
       "Duplex                              343\n",
       "Villa                               340\n",
       "Inmuebles productivos urbanos       200\n",
       "Rancho                              170\n",
       "Local en centro comercial           165\n",
       "Departamento Compartido             141\n",
       "Otros                               134\n",
       "Nave industrial                      76\n",
       "Terreno industrial                   31\n",
       "Huerta                               20\n",
       "Lote                                  5\n",
       "Garage                                1\n",
       "Hospedaje                             1\n",
       "Name: tipodepropiedad, dtype: int64"
      ]
     },
     "execution_count": 7,
     "metadata": {},
     "output_type": "execute_result"
    }
   ],
   "source": [
    "df['tipodepropiedad'].value_counts()"
   ]
  },
  {
   "cell_type": "code",
   "execution_count": 8,
   "metadata": {
    "collapsed": true,
    "jupyter": {
     "outputs_hidden": true
    }
   },
   "outputs": [
    {
     "data": {
      "text/plain": [
       "95426       320000.0\n",
       "7534        350000.0\n",
       "8430        420000.0\n",
       "234074      440000.0\n",
       "149492      450000.0\n",
       "             ...    \n",
       "224173     9000000.0\n",
       "130327     9000000.0\n",
       "219406    10000000.0\n",
       "60297     12000000.0\n",
       "89786     12206700.0\n",
       "Name: precio, Length: 340, dtype: float64"
      ]
     },
     "execution_count": 8,
     "metadata": {},
     "output_type": "execute_result"
    }
   ],
   "source": [
    "df[df['tipodepropiedad'] == 'Villa'].sort_values('precio')['precio']"
   ]
  },
  {
   "cell_type": "code",
   "execution_count": 9,
   "metadata": {
    "collapsed": true,
    "jupyter": {
     "outputs_hidden": true
    }
   },
   "outputs": [
    {
     "data": {
      "text/plain": [
       "184407      310000.0\n",
       "30437       310000.0\n",
       "189220      310000.0\n",
       "133735      310000.0\n",
       "213712      310000.0\n",
       "             ...    \n",
       "215495    12500000.0\n",
       "92689     12500000.0\n",
       "173245    12500000.0\n",
       "232457    12515000.0\n",
       "209858    12521000.0\n",
       "Name: precio, Length: 141717, dtype: float64"
      ]
     },
     "execution_count": 9,
     "metadata": {},
     "output_type": "execute_result"
    }
   ],
   "source": [
    "df[df['tipodepropiedad'] == 'Casa'].sort_values('precio')['precio']"
   ]
  },
  {
   "cell_type": "code",
   "execution_count": 10,
   "metadata": {
    "collapsed": true,
    "jupyter": {
     "outputs_hidden": true
    }
   },
   "outputs": [],
   "source": [
    "def regresionPorSegmento(df, segment_column, features):\n",
    "    predictions_df = pd.DataFrame()\n",
    "\n",
    "    for segment in df[segment_column].unique():\n",
    "        linear_regressor = metnum.LinearRegression()\n",
    "        # Aquellos datos que no contengan la columna, no son tomados en cuenta\n",
    "        df_segment = df[df[segment_column] == segment]\n",
    "\n",
    "        A = df_segment[features].values\n",
    "        precios_reales = df_segment['precio'].values\n",
    "        \n",
    "        linear_regressor.fit(A, precios_reales)\n",
    "        precios_aproximados = linear_regressor.predict(A)\n",
    "        precios_aproximados = precios_aproximados.reshape(precios_aproximados.shape[0])\n",
    "        predictions_df[segment] = (linear_regressor, np.array(list(zip(precios_aproximados, precios_reales))))\n",
    "\n",
    "    return predictions_df"
   ]
  },
  {
   "cell_type": "code",
   "execution_count": 11,
   "metadata": {},
   "outputs": [],
   "source": [
    "# Modelo fruta\n",
    "df = df_original.copy()\n",
    "segment = 'tipodepropiedad'\n",
    "features = ['banos', \"habitaciones\"]   #'metrostotales', 'metroscubiertos', \"habitaciones\", \"banos\", \"antiguedad\"]\n",
    "df = df[df[segment].notna()]\n",
    "for f in features:\n",
    "    df = df[df[f].notna()]\n",
    "df = df.sort_values(segment)\n",
    "\n",
    "predictions = regresionPorSegmento(df, segment, features)\n",
    "\n"
   ]
  },
  {
   "cell_type": "code",
   "execution_count": 12,
   "metadata": {
    "collapsed": true,
    "jupyter": {
     "outputs_hidden": true
    }
   },
   "outputs": [],
   "source": [
    "def print_heat_map(df, x_label, y_label, z_label):\n",
    "    x_values = df[x_label].unique()\n",
    "    y_values = df[y_label].unique()\n",
    "    mat = np.ndarray((len(x_values), len(y_values)))\n",
    "    i = 0\n",
    "    for x in x_values:\n",
    "        j = 0\n",
    "        for y in y_values:\n",
    "            val = df[df[x_label]==x][df[y_label]==y][z_label]\n",
    "            val = np.mean(val) if len(val) != 0 else 0\n",
    "            mat[i, j] = val\n",
    "            j+=1\n",
    "        i+=1\n",
    "    plt.imshow(mat, cmap='hot')"
   ]
  },
  {
   "cell_type": "code",
   "execution_count": 13,
   "metadata": {
    "collapsed": true,
    "jupyter": {
     "outputs_hidden": true
    }
   },
   "outputs": [
    {
     "name": "stderr",
     "output_type": "stream",
     "text": [
      "/home/tomy/.pyenv/versions/3.6.9/envs/py3.6/lib/python3.6/site-packages/ipykernel_launcher.py:8: SettingWithCopyWarning: \n",
      "A value is trying to be set on a copy of a slice from a DataFrame\n",
      "\n",
      "See the caveats in the documentation: https://pandas.pydata.org/pandas-docs/stable/user_guide/indexing.html#returning-a-view-versus-a-copy\n",
      "  \n",
      "/home/tomy/.pyenv/versions/3.6.9/envs/py3.6/lib/python3.6/site-packages/ipykernel_launcher.py:9: UserWarning: Boolean Series key will be reindexed to match DataFrame index.\n",
      "  if __name__ == '__main__':\n"
     ]
    },
    {
     "data": {
      "image/png": "[encoded data removed]",
      "text/plain": [
       "<Figure size 432x288 with 1 Axes>"
      ]
     },
     "metadata": {
      "needs_background": "light"
     },
     "output_type": "display_data"
    }
   ],
   "source": [
    "import seaborn as sns\n",
    "\n",
    "# sns.scatterplot(data=df, x='metroscubiertos', y='precio')\n",
    "\n",
    "df_new = df.copy()\n",
    "df_new[\"precio_aproximado\"] = np.nan\n",
    "for s in df_new[segment].unique():\n",
    "    df_new['precio_aproximado'][df_new[segment]==s] = predictions.loc[1, s][:,0]\n",
    "# g = sns.FacetGrid(df_new, col=segment, col_wrap=5, height=4)\n",
    "# g.map(plt.scatter, \"metrostotales\", \"precio\", alpha=0.3)\n",
    "# g.map(plt.plot, \"metroscubiertos\", \"precio_aproximado\", color=\"red\")\n",
    "df_new.astype({\"precio_aproximado\": int})\n",
    "print_heat_map(df_new, features[0], features[1], \"precio_aproximado\")"
   ]
  },
  {
   "cell_type": "code",
   "execution_count": 85,
   "metadata": {},
   "outputs": [
    {
     "data": {
      "text/plain": [
       "<matplotlib.collections.PolyCollection at 0x7fc11b1d6470>"
      ]
     },
     "execution_count": 85,
     "metadata": {},
     "output_type": "execute_result"
    },
    {
     "data": {
      "image/png": "[encoded data removed]",
      "text/plain": [
       "<Figure size 432x288 with 1 Axes>"
      ]
     },
     "metadata": {
      "needs_background": "light"
     },
     "output_type": "display_data"
    }
   ],
   "source": [
    "#Prueba de un analisis. Resultado arrojado vs resultado original.\n",
    "\n",
    "#los ordeno de menor a mayor para que sea mas claro el analisis\n",
    "X = np.sort(segmentado) #no se como garcha leer los que hizo diego, esto es un ejemplo\n",
    "Y = np.sort(original)\n",
    "\n",
    "plt.plot(X, color='red')\n",
    "plt.plot(Y, color='blue')\n",
    "\n",
    "\n",
    "plt.fill_between(np.linspace(1, np.size(X), np.size(X)), X, Y, X>Y, color='pink')\n",
    "plt.fill_between(np.linspace(1, np.size(X), np.size(X)), X, Y, X<Y, color='lightblue')\n",
    "\n",
    "#analisis: Con precios chicos, segmentado es apenas mayor del original. Luego con precios grandes es bastante menor"
   ]
  },
  {
   "cell_type": "code",
   "execution_count": 77,
   "metadata": {},
   "outputs": [
    {
     "data": {
      "text/plain": [
       "array([ 0.,  1.,  2.,  3.,  4.,  5.,  6.,  7.,  8.,  9., 10.])"
      ]
     },
     "execution_count": 77,
     "metadata": {},
     "output_type": "execute_result"
    }
   ],
   "source": [
    "np.linspace(0, 10, 11)"
   ]
  },
  {
   "cell_type": "code",
   "execution_count": 27,
   "metadata": {},
   "outputs": [
    {
     "data": {
      "text/plain": [
       "array([-1.94038681e+05,  5.79107880e+05,  8.84354979e+04, -1.54998974e+04,\n",
       "        6.29224333e+05, -5.22412732e+04, -4.28015915e+04,  2.64051848e+05,\n",
       "       -6.15499897e+05,  2.47758727e+05, -7.87541326e+04, -7.75672382e+05,\n",
       "       -9.17930185e+04, -3.42012757e+05,  1.45428475e+06, -6.63469584e+05,\n",
       "       -2.39870380e+05,  8.33838551e+04,  9.51189836e+05,  1.80344969e+05,\n",
       "        2.16388039e+05, -1.87068789e+05, -2.11346958e+06, -5.91392018e+05,\n",
       "        2.64836294e+05,  8.71357931e+05,  4.46189836e+05,  2.76198614e+05,\n",
       "        1.82969892e+05, -5.10775667e+05,  1.80508676e+05,  1.15172485e+05,\n",
       "        3.28776078e+05,  8.04616555e+05,  5.29896714e+05, -2.84598999e+05,\n",
       "       -4.48231264e+04, -2.96793019e+05, -3.13469584e+05, -7.18963041e+04,\n",
       "       -1.22241273e+05,  5.68103696e+05,  3.09052874e+04,  1.42241478e+05,\n",
       "        4.96306288e+05, -1.85495508e+05,  1.97025924e+05,  1.71021740e+05,\n",
       "        1.55961319e+05, -2.64814348e+05, -1.63646458e+05,  5.94396817e+05,\n",
       "       -7.17965298e+05,  2.23383855e+05,  3.92243325e+04,  1.35172485e+05,\n",
       "       -2.31060216e+05, -1.77081751e+05, -1.85948152e+05,  4.37254440e+05,\n",
       "        6.78103696e+05, -1.34132721e+06, -1.09435293e+05, -2.71335986e+05,\n",
       "       -1.04650642e+05,  9.29896714e+05, -7.19310062e+05, -2.19655031e+05,\n",
       "       -4.37180852e+05,  4.55174537e+04,  1.30394417e+06,  1.46396612e+05,\n",
       "        2.92243325e+04,  8.36530416e+05,  6.38211371e+05,  1.34915297e+04,\n",
       "        1.90641835e+06,  1.64219943e+05, -5.05603183e+05,  8.42939990e+05,\n",
       "        1.72931211e+05,  2.18319045e+05, -8.76291069e+04,  1.48487141e+05,\n",
       "        1.60452644e+05, -5.07844456e+05, -1.03025719e+05,  8.67931211e+05,\n",
       "        4.17146766e+05, -6.87180852e+05,  6.39224333e+05,  1.32787957e+06,\n",
       "        9.04396817e+05, -3.28642069e+05, -9.47400591e+05,  5.61250257e+05,\n",
       "        4.84715657e+05,  2.98319045e+05, -1.33706879e+06,  7.12370893e+05,\n",
       "       -3.93100618e+04,  1.23879363e+05,  2.62370893e+05,  7.63943229e+04,\n",
       "       -1.98374987e+05, -2.12327265e+05,  6.09996607e+05,  9.89517128e+04,\n",
       "       -1.10699989e+05, -5.87678391e+05,  2.89998869e+05, -9.75585210e+05,\n",
       "       -4.68025558e+05, -4.75468733e+05, -2.85582947e+05, -2.45118173e+05,\n",
       "       -7.28374987e+05, -5.68142034e+05, -3.00022622e+04, -7.69168168e+05,\n",
       "        1.15811376e+05, -3.68142599e+05,  4.45579554e+05,  2.09301142e+05,\n",
       "       -4.28374987e+05, -4.80698858e+05,  8.99988689e+04, -2.04421577e+05,\n",
       "       -2.25235215e+05, -1.81908516e+05,  2.82556824e+05, -5.04903399e+05,\n",
       "       -2.37792605e+05,  2.90681891e+04, -6.39545406e+04, -3.61048287e+05,\n",
       "       -3.45818162e+05,  9.39517128e+04, -5.81631800e+05,  5.71392061e+05,\n",
       "       -4.97327830e+05, -3.34886351e+05, -1.04886351e+05,  8.86022837e+04,\n",
       "        8.99966066e+04, -1.01747145e+05,  5.95159108e+05,  9.83367634e+05,\n",
       "        7.38369331e+05,  4.18579661e+04,  3.04764219e+05,  1.03370462e+05,\n",
       "       -1.40232953e+06,  1.59415356e+05, -3.69073845e+05, -1.81397716e+05,\n",
       "       -1.51164764e+05,  1.41509668e+05,  1.60150741e+06,  2.11625013e+05,\n",
       "        1.59998303e+05, -2.00232953e+06,  3.95579554e+05, -3.96539643e+04,\n",
       "       -3.48863515e+04, -8.19800981e+04,  1.21044894e+05, -1.08142034e+05,\n",
       "        7.43011418e+04,  5.97090353e+05, -5.10350560e+05,  1.79764785e+05,\n",
       "       -2.35815900e+05, -9.34908974e+04, -4.22107886e+04, -4.69548287e+05,\n",
       "        4.44181838e+05,  2.53020467e+05, -1.54886351e+05, -5.81397716e+05,\n",
       "        7.68602284e+05,  9.15340946e+04, -4.80698858e+05, -1.00118173e+05,\n",
       "        1.24532963e+05, -3.98885786e+05, -6.02329527e+05, -2.05119304e+05,\n",
       "        6.23718194e+05, -8.95934639e+05, -2.03257945e+05,  1.14615741e+06,\n",
       "        4.43602849e+05, -9.34886351e+05, -6.98840892e+05,  2.36113649e+05,\n",
       "       -5.41165895e+05,  2.16857401e+05,  1.11510799e+05,  5.93011418e+04,\n",
       "       -1.14965340e+06, -2.45465340e+06,  7.01857966e+05,  2.70577857e+05,\n",
       "        9.22228428e+05, -6.81261349e+05,  6.94176182e+04,  9.71997587e+05,\n",
       "        7.42550336e+05,  2.57418370e+05,  5.06281578e+05,  3.39551542e+05,\n",
       "        4.49083025e+05,  8.50188523e+05,  3.50188523e+05,  1.21085439e+06,\n",
       "        4.28078577e+04,  4.44283991e+05, -6.18278787e+05,  5.20858157e+03,\n",
       "        3.29484956e+05,  3.34925723e+04,  4.03712390e+05,  4.38417163e+05,\n",
       "        2.02437222e+05,  3.48836981e+05, -3.50288817e+05,  3.06570394e+05,\n",
       "        6.91331725e+05, -1.69557160e+06, -1.61620541e+05,  5.74937788e+04,\n",
       "        1.68052937e+05, -1.31972325e+05,  7.81596411e+04,  1.27713596e+05,\n",
       "        2.09855592e+05,  4.84026469e+05, -4.83032950e+03,  7.08606892e+05,\n",
       "        2.09152025e+06,  6.45615715e+05,  3.89817887e+05,  2.50075409e+05,\n",
       "        1.15144597e+05,  1.81036498e+05,  2.84064173e+05,  3.00246286e+05,\n",
       "        3.44472513e+05,  2.50377046e+05,  1.07815964e+06, -1.52730396e+06,\n",
       "        1.93207300e+06, -1.66143202e+06,  3.66331725e+05,  4.97312872e+05,\n",
       "        1.36903326e+05, -4.95194555e+05,  2.07531483e+05,  1.84000641e+06,\n",
       "        1.11713076e+06,  5.13951060e+05,  1.23036498e+05,  4.26645804e+05,\n",
       "        9.17977528e+05, -6.98114772e+04,  3.47387075e+05,  1.10768230e+06,\n",
       "        2.40665862e+05,  3.43655833e+05,  4.72789005e+05,  1.36358683e+06,\n",
       "       -5.91833195e+04,  7.10483749e+05,  2.95864414e+05,  4.28235050e+05,\n",
       "        2.24949853e+05,  1.40904532e+06,  2.95835533e+05,  3.94949853e+05,\n",
       "       -1.67525073e+05,  2.09855592e+05, -9.49585250e+05,  4.63618128e+05,\n",
       "        4.64949853e+05,  2.43731242e+05, -2.67493703e+06,  2.90370636e+05,\n",
       "        3.23473720e+05,  1.68052937e+05,  1.06166466e+06,  6.97424780e+05,\n",
       "       -6.70288817e+05,  9.74247795e+04,  3.20665862e+05,  2.11589247e+05,\n",
       "        3.18636981e+05, -2.51933489e+04, -4.35383078e+05,  1.22330518e+05,\n",
       "        6.61331725e+05,  5.01331725e+05,  2.19189729e+05, -2.29516251e+05,\n",
       "       -2.39516251e+05,  9.61331725e+05, -4.92242289e+05,  1.09045321e+05,\n",
       "        6.73806651e+05, -2.04051354e+05, -1.64466073e+05,  3.84002183e+05,\n",
       "        7.08649627e+05,  4.42355466e+05,  5.96768237e+05,  3.71178824e+05,\n",
       "       -2.00582137e+05,  2.15299253e+05,  5.42414953e+05,  3.34825541e+05,\n",
       "        6.61197013e+04, -1.87820812e+05, -4.53527379e+05, -1.73201474e+05,\n",
       "        3.34708022e+05,  4.58237220e+05,  4.17769692e+05,  3.21533563e+05,\n",
       "       -1.36247389e+05,  9.83532835e+05,  3.46474440e+05,  1.11766418e+05,\n",
       "       -2.93817538e+05,  2.67824813e+05, -3.28817538e+05,  3.20594869e+05,\n",
       "        6.39416044e+05,  4.17682366e+04,  5.46241585e+05,  4.99650718e+05,\n",
       "        1.18120793e+05,  2.76119701e+05,  5.59179552e+05,  6.84826268e+05,\n",
       "       -2.53054394e+05,  3.91766418e+05,  5.88502770e+03,  9.14124066e+05,\n",
       "        1.81064216e+05, -4.19992725e+05, -3.45288340e+05,  3.18273597e+04,\n",
       "       -1.61760961e+05,  4.85328355e+04,  2.63651082e+05,  1.10294524e+06,\n",
       "        1.96237947e+05,  6.94124066e+05,  3.40354739e+05,  1.84826268e+05,\n",
       "        7.61649990e+05, -6.52883402e+04,  1.37298526e+05,  5.96768237e+05,\n",
       "        2.80356557e+05,  1.36053575e+06, -1.23176278e+06,  1.96766418e+05,\n",
       "        2.94160443e+04,  3.44708022e+05, -1.46133399e+06,  4.32945242e+05,\n",
       "       -2.61644534e+05,  5.08355466e+05, -2.95171913e+05,  2.63355830e+05,\n",
       "        1.28294524e+06,  3.86474440e+05,  7.00241221e+05, -6.15854107e+04,\n",
       "       -2.09820448e+05, -7.92346736e+05,  9.33652901e+05, -3.09996362e+05,\n",
       "        2.18032108e+05,  4.56474440e+05,  2.79122248e+05,  1.31770055e+05,\n",
       "        1.92472257e+05, -2.55992361e+05,  1.17941604e+06, -5.45646716e+06,\n",
       "        5.04120429e+05, -1.17505367e+06,  8.96596324e+05,  3.92355466e+05,\n",
       "        3.77063852e+05,  6.07649627e+05,  2.15299253e+05,  3.50003638e+05,\n",
       "        3.94120429e+05, -6.91686389e+04, -4.98817538e+05,  4.29416044e+05,\n",
       "        1.88237220e+05,  2.28824813e+05, -1.44467892e+05,  2.44733486e+04,\n",
       "        1.47062033e+05, -4.78937603e+05,  3.58297434e+05,  1.02647808e+06,\n",
       "       -6.24229581e+05,  1.63532835e+05,  9.82838041e+05,  4.67492337e+05,\n",
       "       -2.78204292e+05, -1.34459200e+05,  2.40725462e+05, -4.45233121e+05,\n",
       "        4.16130064e+05,  2.44107365e+05,  1.53142424e+06,  2.42260127e+05,\n",
       "        1.05258007e+06,  6.67492337e+05,  2.25175462e+05, -8.78890130e+04,\n",
       "        3.08441720e+05, -2.07926684e+05,  1.84773009e+05, -6.97625719e+04,\n",
       "        1.15402485e+06,  9.16192030e+05, -4.03725458e+05, -1.75644111e+04,\n",
       "        1.13431381e+06,  1.08101234e+05,  2.54050617e+05, -3.68286804e+05,\n",
       "        2.96738961e+05,  3.76883439e+05,  5.91506751e+05,  3.57172396e+05,\n",
       "        4.40763813e+05,  2.06996935e+05,  1.80237428e+05, -4.45233121e+05,\n",
       "        1.65149697e+05,  2.35552150e+05,  2.00877308e+05,  3.55211664e+05,\n",
       "       -6.70283738e+05,  6.46945406e+05,  8.02662579e+05, -1.90453981e+05,\n",
       "        4.32662579e+05,  1.71362273e+05,  2.56620247e+05,  2.17285892e+05,\n",
       "        1.65376688e+06,  1.03441720e+05, -1.19762572e+05, -3.90660426e+05,\n",
       "        2.40453069e+05,  4.55211664e+05,  8.97781294e+05,  4.91073316e+05,\n",
       "        5.26130064e+05,  1.10608897e+05,  6.96594482e+05,  1.11460277e+06,\n",
       "        1.06996935e+05,  1.07254908e+06,  4.52631925e+04,  5.28792643e+05,\n",
       "       -2.74045398e+06,  9.99546019e+05,  3.05552150e+05,  4.04829757e+05,\n",
       "        2.75985585e+05, -8.78890130e+04,  3.15841107e+05,  8.21104299e+05,\n",
       "        1.56243559e+06, -2.24736807e+05,  1.24716262e+05, -8.21558280e+05,\n",
       "        2.48039267e+05,  5.31217794e+05, -1.95613458e+04, -1.59710245e+06,\n",
       "        9.98761660e+05,  7.99773009e+05,  7.83993869e+05,  2.98503686e+05,\n",
       "        6.18679148e+05,  4.74716262e+05, -2.86842019e+05, -3.04385884e+05,\n",
       "        5.25438654e+05, -1.85980366e+05,  6.22549084e+05,  2.55030983e+05,\n",
       "       -2.59334355e+06,  3.45149697e+05,  5.34540800e+05,  4.40763813e+05,\n",
       "        9.09773009e+05,  5.63673929e+05, -2.35608864e+06,  4.31682213e+05,\n",
       "       -1.02167178e+06,  1.40350923e+05,  2.26161047e+05,  4.66248778e+05,\n",
       "        2.13818408e+05, -2.48606744e+05])"
      ]
     },
     "execution_count": 27,
     "metadata": {},
     "output_type": "execute_result"
    }
   ],
   "source": []
  }
 ],
 "metadata": {
  "kernelspec": {
   "display_name": "Python 3",
   "language": "python",
   "name": "python3"
  },
  "language_info": {
   "codemirror_mode": {
    "name": "ipython",
    "version": 3
   },
   "file_extension": ".py",
   "mimetype": "text/x-python",
   "name": "python",
   "nbconvert_exporter": "python",
   "pygments_lexer": "ipython3",
   "version": "3.6.9"
  }
 },
 "nbformat": 4,
 "nbformat_minor": 4
}
