{
 "cells": [
  {
   "cell_type": "code",
   "execution_count": 1,
   "metadata": {},
   "outputs": [
    {
     "name": "stdout",
     "output_type": "stream",
     "text": [
      "mkdir: no se puede crear el directorio «build»: El archivo ya existe\n",
      "-- The C compiler identification is GNU 9.3.0\n",
      "-- The CXX compiler identification is GNU 9.3.0\n",
      "-- Check for working C compiler: /usr/bin/cc\n",
      "-- Check for working C compiler: /usr/bin/cc -- works\n",
      "-- Detecting C compiler ABI info\n",
      "-- Detecting C compiler ABI info - done\n",
      "-- Detecting C compile features\n",
      "-- Detecting C compile features - done\n",
      "-- Check for working CXX compiler: /usr/bin/c++\n",
      "-- Check for working CXX compiler: /usr/bin/c++ -- works\n",
      "-- Detecting CXX compiler ABI info\n",
      "-- Detecting CXX compiler ABI info - done\n",
      "-- Detecting CXX compile features\n",
      "-- Detecting CXX compile features - done\n",
      "Release mode\n",
      "-- Found PythonInterp: /home/awolfsdorf/.pyenv/versions/mettp3/bin/python (found version \"3.7.5\") \n",
      "-- Found PythonLibs: /home/awolfsdorf/.pyenv/versions/3.7.5/lib/libpython3.7m.a\n",
      "-- pybind11 v2.2.4\n",
      "-- Performing Test HAS_FLTO\n",
      "-- Performing Test HAS_FLTO - Success\n",
      "-- LTO enabled\n",
      "CMAKE_INSTALL_PREFIX=/home/awolfsdorf/Dropbox/CSCOM/MN/met-tp3/metnum-tp3-2020-1c\n",
      "-- Configuring done\n",
      "-- Generating done\n",
      "-- Build files have been written to: /home/awolfsdorf/Dropbox/CSCOM/MN/met-tp3/metnum-tp3-2020-1c/build\n",
      "\u001b[35m\u001b[1mScanning dependencies of target metnum\u001b[0m\n",
      "[ 33%] \u001b[32mBuilding CXX object CMakeFiles/metnum.dir/src/metnum.cpp.o\u001b[0m\n",
      "[ 66%] \u001b[32mBuilding CXX object CMakeFiles/metnum.dir/src/linear_regression.cpp.o\u001b[0m\n",
      "In file included from \u001b[01m\u001b[K/home/awolfsdorf/Dropbox/CSCOM/MN/met-tp3/metnum-tp3-2020-1c/src/linear_regression.cpp:6\u001b[m\u001b[K:\n",
      "\u001b[01m\u001b[K/home/awolfsdorf/Dropbox/CSCOM/MN/met-tp3/metnum-tp3-2020-1c/src/metrics.hpp:21:15:\u001b[m\u001b[K \u001b[01;35m\u001b[Kwarning: \u001b[m\u001b[K‘\u001b[01m\u001b[Kdouble apply_RMSLE(const Vector&, const Vector&, double (*)(double))\u001b[m\u001b[K’ defined but not used [\u001b[01;35m\u001b[K-Wunused-function\u001b[m\u001b[K]\n",
      "   21 | static double \u001b[01;35m\u001b[Kapply_RMSLE\u001b[m\u001b[K(const Vector& X, const Vector& Y, double (*f)(double)) {\n",
      "      |               \u001b[01;35m\u001b[K^~~~~~~~~~~\u001b[m\u001b[K\n",
      "\u001b[01m\u001b[K/home/awolfsdorf/Dropbox/CSCOM/MN/met-tp3/metnum-tp3-2020-1c/src/metrics.hpp:5:15:\u001b[m\u001b[K \u001b[01;35m\u001b[Kwarning: \u001b[m\u001b[K‘\u001b[01m\u001b[Kdouble apply_RMSE(const Vector&, const Vector&, double (*)(double))\u001b[m\u001b[K’ defined but not used [\u001b[01;35m\u001b[K-Wunused-function\u001b[m\u001b[K]\n",
      "    5 | static double \u001b[01;35m\u001b[Kapply_RMSE\u001b[m\u001b[K(const Vector& X, const Vector& Y, double (*f)(double)) {\n",
      "      |               \u001b[01;35m\u001b[K^~~~~~~~~~\u001b[m\u001b[K\n",
      "[100%] \u001b[32m\u001b[1mLinking CXX shared module metnum.cpython-37m-x86_64-linux-gnu.so\u001b[0m\n",
      "[100%] Built target metnum\n",
      "\u001b[36mInstall the project...\u001b[0m\n",
      "-- Install configuration: \"Release\"\n",
      "-- Installing: /home/awolfsdorf/Dropbox/CSCOM/MN/met-tp3/metnum-tp3-2020-1c/notebooks/metnum.cpython-37m-x86_64-linux-gnu.so\n",
      "/home/awolfsdorf/Dropbox/CSCOM/MN/met-tp3/metnum-tp3-2020-1c/notebooks\n",
      "Python 3.7.5\n"
     ]
    }
   ],
   "source": [
    "%run metricas.ipynb "
   ]
  },
  {
   "cell_type": "code",
   "execution_count": 2,
   "metadata": {},
   "outputs": [],
   "source": [
    "df_original = pd.read_csv('../data/train.csv')\n",
    "df = df_original.copy()\n",
    "#df"
   ]
  },
  {
   "cell_type": "markdown",
   "metadata": {},
   "source": [
    "SEGMENTACIÓN NUMÉRICA: \\\n",
    "la categoria seleccionada tiene que contener numeros, no palabras \\\n",
    "    n = cantidad de particiones \\\n",
    "    df es la matriz con toda la informacion \\\n",
    "    palabra es la columna por la cual segmentaremos"
   ]
  },
  {
   "cell_type": "code",
   "execution_count": 3,
   "metadata": {},
   "outputs": [],
   "source": [
    "def segXcatNum(df, n , palabra):\n",
    "    \n",
    "    df = df[df['ciudad']=='Mérida'].dropna() #TODO sin esto no anda, averiguar por que\n",
    "    \n",
    "    tam = df.shape[0]\n",
    "    linear_regressor = metnum.LinearRegression()\n",
    "    \n",
    "    \n",
    "    df.sort_values(\"precio\") #ordena de menor a mayor\n",
    "    \n",
    "    #tomo la columna de PALABRA y la de precios\n",
    "    categoria = df[palabra].values\n",
    "    precios = df['precio'].values\n",
    "    vector = np.array([])\n",
    "    for i in range(n):\n",
    "        \n",
    "        #tomo n bloques de longitud tam/n\n",
    "        bloqueCategoria = categoria[int(i * tam/n) : int((i+1) * (tam/n))]\n",
    "        bloquePrecios = precios[int(i * tam/n) : int((i+1) * tam/n)]\n",
    "        \n",
    "        #reshapeo\n",
    "        bloqueCategoria = bloqueCategoria.reshape(len(bloqueCategoria),1)\n",
    "        bloquePrecios = bloquePrecios.reshape(len(bloquePrecios),1)\n",
    "        \n",
    "        #fit y prediccion \n",
    "        linear_regressor.fit(bloqueCategoria, bloquePrecios)\n",
    "        lin = linear_regressor.predict(bloqueCategoria)\n",
    "        lin = lin.reshape(lin.shape[0])\n",
    "        #reshapeo para poder meterlo en un array con el formato necesario\n",
    "        vector = np.append(vector, lin)\n",
    "        \n",
    "    #df['prediction'] = vector ---- sirve para plotear cosas mas facil\n",
    "    return vector\n",
    "\n",
    "\n",
    "\n"
   ]
  },
  {
   "cell_type": "code",
   "execution_count": 4,
   "metadata": {},
   "outputs": [
    {
     "name": "stdout",
     "output_type": "stream",
     "text": [
      "(518,) (518,)\n",
      "Correlacion: \n",
      "  0.7421713193836197 \n",
      " Determinacion: \n",
      " 0.5508182673156228 \n",
      " RMSE: \n",
      " 676017.2546645574 \n",
      " RMSLE: \n",
      " 0.43092419953725103\n"
     ]
    }
   ],
   "source": [
    "segmentado = segXcatNum(df, 5, 'metroscubiertos')\n",
    "merida = df[df['ciudad']=='Mérida'].dropna() #TODO sin esto no anda, averiguar por que\n",
    "original = merida['precio'].values\n",
    "original = original.reshape(len(original))\n",
    "print(original.shape, segmentado.shape)\n",
    "print(\n",
    "    \"Correlacion: \\n \",\n",
    "coefCorrel(segmentado, original), \"\\n\",\n",
    "    \"Determinacion: \\n\",\n",
    "    coefDet(segmentado, original),  \"\\n\",\n",
    "    \"RMSE: \\n\",\n",
    "RMSE(segmentado, original), \"\\n\",\n",
    "    \"RMSLE: \\n\", \n",
    "RMSLE(segmentado, original),\n",
    "\n",
    ")"
   ]
  },
  {
   "cell_type": "code",
   "execution_count": 5,
   "metadata": {},
   "outputs": [
    {
     "name": "stdout",
     "output_type": "stream",
     "text": [
      "<class 'pandas.core.frame.DataFrame'>\n",
      "RangeIndex: 240000 entries, 0 to 239999\n",
      "Data columns (total 23 columns):\n",
      " #   Column                      Non-Null Count   Dtype  \n",
      "---  ------                      --------------   -----  \n",
      " 0   id                          240000 non-null  int64  \n",
      " 1   titulo                      234613 non-null  object \n",
      " 2   descripcion                 238381 non-null  object \n",
      " 3   tipodepropiedad             239954 non-null  object \n",
      " 4   direccion                   186928 non-null  object \n",
      " 5   ciudad                      239628 non-null  object \n",
      " 6   provincia                   239845 non-null  object \n",
      " 7   antiguedad                  196445 non-null  float64\n",
      " 8   habitaciones                217529 non-null  float64\n",
      " 9   garages                     202235 non-null  float64\n",
      " 10  banos                       213779 non-null  float64\n",
      " 11  metroscubiertos             222600 non-null  float64\n",
      " 12  metrostotales               188533 non-null  float64\n",
      " 13  idzona                      211379 non-null  float64\n",
      " 14  lat                         116512 non-null  float64\n",
      " 15  lng                         116512 non-null  float64\n",
      " 16  fecha                       240000 non-null  object \n",
      " 17  gimnasio                    240000 non-null  float64\n",
      " 18  usosmultiples               240000 non-null  float64\n",
      " 19  piscina                     240000 non-null  float64\n",
      " 20  escuelascercanas            240000 non-null  float64\n",
      " 21  centroscomercialescercanos  240000 non-null  float64\n",
      " 22  precio                      240000 non-null  float64\n",
      "dtypes: float64(15), int64(1), object(7)\n",
      "memory usage: 42.1+ MB\n"
     ]
    }
   ],
   "source": [
    "df.info()"
   ]
  },
  {
   "cell_type": "code",
   "execution_count": 6,
   "metadata": {},
   "outputs": [],
   "source": [
    "# Ideas de "
   ]
  },
  {
   "cell_type": "markdown",
   "metadata": {},
   "source": [
    "# Ideas de modelos\n",
    "- Centros comerciales cercanos según antiguedad => centroscomercialescercanos = a x antiguedad + b\n",
    "- Feature engeniere -> si esta cerca de una gran ciudad sube el precio.  -> para hacer Segmentacion\n",
    "-                   -> Casa de gente con guita: gimnasio + piscina + tipopropiedad(casa, quinta, villa, alguno mas...) -> para hacer Segmentacion\n",
    "-                   -> Ponerle pesos a algunas variables categoricas y sumarlas -> \n",
    "- Usar PCA para extraer componentes principales"
   ]
  },
  {
   "cell_type": "code",
   "execution_count": 7,
   "metadata": {},
   "outputs": [
    {
     "data": {
      "text/plain": [
       "Casa                             141717\n",
       "Apartamento                       57341\n",
       "Casa en condominio                19297\n",
       "Terreno                            9945\n",
       "Local Comercial                    3055\n",
       "Oficina comercial                  1741\n",
       "Bodega comercial                   1406\n",
       "Edificio                           1396\n",
       "Terreno comercial                  1326\n",
       "Casa uso de suelo                   708\n",
       "Quinta Vacacional                   395\n",
       "Duplex                              343\n",
       "Villa                               340\n",
       "Inmuebles productivos urbanos       200\n",
       "Rancho                              170\n",
       "Local en centro comercial           165\n",
       "Departamento Compartido             141\n",
       "Otros                               134\n",
       "Nave industrial                      76\n",
       "Terreno industrial                   31\n",
       "Huerta                               20\n",
       "Lote                                  5\n",
       "Hospedaje                             1\n",
       "Garage                                1\n",
       "Name: tipodepropiedad, dtype: int64"
      ]
     },
     "execution_count": 7,
     "metadata": {},
     "output_type": "execute_result"
    }
   ],
   "source": [
    "df['tipodepropiedad'].value_counts()"
   ]
  },
  {
   "cell_type": "code",
   "execution_count": 8,
   "metadata": {},
   "outputs": [
    {
     "data": {
      "text/plain": [
       "95426       320000.0\n",
       "7534        350000.0\n",
       "8430        420000.0\n",
       "234074      440000.0\n",
       "149492      450000.0\n",
       "             ...    \n",
       "224173     9000000.0\n",
       "130327     9000000.0\n",
       "219406    10000000.0\n",
       "60297     12000000.0\n",
       "89786     12206700.0\n",
       "Name: precio, Length: 340, dtype: float64"
      ]
     },
     "execution_count": 8,
     "metadata": {},
     "output_type": "execute_result"
    }
   ],
   "source": [
    "df[df['tipodepropiedad'] == 'Villa'].sort_values('precio')['precio']"
   ]
  },
  {
   "cell_type": "code",
   "execution_count": 9,
   "metadata": {},
   "outputs": [
    {
     "data": {
      "text/plain": [
       "184407      310000.0\n",
       "30437       310000.0\n",
       "189220      310000.0\n",
       "133735      310000.0\n",
       "213712      310000.0\n",
       "             ...    \n",
       "215495    12500000.0\n",
       "92689     12500000.0\n",
       "173245    12500000.0\n",
       "232457    12515000.0\n",
       "209858    12521000.0\n",
       "Name: precio, Length: 141717, dtype: float64"
      ]
     },
     "execution_count": 9,
     "metadata": {},
     "output_type": "execute_result"
    }
   ],
   "source": [
    "df[df['tipodepropiedad'] == 'Casa'].sort_values('precio')['precio']"
   ]
  },
  {
   "cell_type": "code",
   "execution_count": 10,
   "metadata": {},
   "outputs": [],
   "source": [
    "def regresionPorSegmento(df, segment_column, features):\n",
    "    predictions_df = pd.DataFrame()\n",
    "\n",
    "    for segment in df[segment_column].unique():\n",
    "        linear_regressor = metnum.LinearRegression()\n",
    "        # Aquellos datos que no contengan la columna, no son tomados en cuenta\n",
    "        df_segment = df[df[segment_column] == segment]\n",
    "\n",
    "        A = df_segment[features].values\n",
    "        precios_reales = df_segment['precio'].values\n",
    "        \n",
    "        linear_regressor.fit(A, precios_reales)\n",
    "        precios_aproximados = linear_regressor.predict(A)\n",
    "        precios_aproximados = precios_aproximados.reshape(precios_aproximados.shape[0])\n",
    "        predictions_df[segment] = (linear_regressor, np.array(list(zip(precios_aproximados, precios_reales))))\n",
    "\n",
    "    return predictions_df"
   ]
  },
  {
   "cell_type": "code",
   "execution_count": 61,
   "metadata": {},
   "outputs": [],
   "source": [
    "# Modelo fruta\n",
    "df = df_original.copy()\n",
    "segment = 'tipodepropiedad'\n",
    "features = ['banos', \"habitaciones\"]   #'metrostotales', 'metroscubiertos', \"habitaciones\", \"banos\", \"antiguedad\"]\n",
    "df = df[df[segment].notna()]\n",
    "for f in features:\n",
    "    df = df[df[f].notna()]\n",
    "df = df.sort_values(segment)\n",
    "\n",
    "predictions = regresionPorSegmento(df, segment, features)\n",
    "\n"
   ]
  },
  {
   "cell_type": "code",
   "execution_count": 62,
   "metadata": {},
   "outputs": [],
   "source": [
    "def print_heat_map(df, x_label, y_label, z_label):\n",
    "    x_values = df[x_label].unique()\n",
    "    y_values = df[y_label].unique()\n",
    "    mat = np.ndarray((len(x_values), len(y_values)))\n",
    "    i = 0\n",
    "    for x in x_values:\n",
    "        j = 0\n",
    "        for y in y_values:\n",
    "            val = df[df[x_label]==x][df[y_label]==y][z_label]\n",
    "            val = np.mean(val) if len(val) != 0 else 0\n",
    "            mat[i, j] = val\n",
    "            j+=1\n",
    "        i+=1\n",
    "    plt.imshow(mat, cmap='hot')"
   ]
  },
  {
   "cell_type": "code",
   "execution_count": 63,
   "metadata": {},
   "outputs": [
    {
     "name": "stderr",
     "output_type": "stream",
     "text": [
      "/home/awolfsdorf/.pyenv/versions/3.7.5/envs/mettp3/lib/python3.7/site-packages/ipykernel_launcher.py:8: SettingWithCopyWarning: \n",
      "A value is trying to be set on a copy of a slice from a DataFrame\n",
      "\n",
      "See the caveats in the documentation: https://pandas.pydata.org/pandas-docs/stable/user_guide/indexing.html#returning-a-view-versus-a-copy\n",
      "  \n",
      "/home/awolfsdorf/.pyenv/versions/3.7.5/envs/mettp3/lib/python3.7/site-packages/ipykernel_launcher.py:9: UserWarning: Boolean Series key will be reindexed to match DataFrame index.\n",
      "  if __name__ == '__main__':\n"
     ]
    },
    {
     "data": {
      "image/png": "[encoded data removed]",
      "text/plain": [
       "<Figure size 432x288 with 1 Axes>"
      ]
     },
     "metadata": {
      "needs_background": "light"
     },
     "output_type": "display_data"
    }
   ],
   "source": [
    "import seaborn as sns\n",
    "\n",
    "# sns.scatterplot(data=df, x='metroscubiertos', y='precio')\n",
    "\n",
    "df_new = df.copy()\n",
    "df_new[\"precio_aproximado\"] = np.nan\n",
    "for s in df_new[segment].unique():\n",
    "    df_new['precio_aproximado'][df_new[segment]==s] = predictions.loc[1, s][:,0]\n",
    "# g = sns.FacetGrid(df_new, col=segment, col_wrap=5, height=4)\n",
    "# g.map(plt.scatter, \"metrostotales\", \"precio\", alpha=0.3)\n",
    "# g.map(plt.plot, \"metroscubiertos\", \"precio_aproximado\", color=\"red\")\n",
    "df_new.astype({\"precio_aproximado\": int})\n",
    "print_heat_map(df_new, features[0], features[1], \"precio_aproximado\")"
   ]
  },
  {
   "cell_type": "code",
   "execution_count": null,
   "metadata": {},
   "outputs": [],
   "source": []
  }
 ],
 "metadata": {
  "kernelspec": {
   "display_name": "Python 3",
   "language": "python",
   "name": "python3"
  },
  "language_info": {
   "codemirror_mode": {
    "name": "ipython",
    "version": 3
   },
   "file_extension": ".py",
   "mimetype": "text/x-python",
   "name": "python",
   "nbconvert_exporter": "python",
   "pygments_lexer": "ipython3",
   "version": "3.7.5"
  }
 },
 "nbformat": 4,
 "nbformat_minor": 4
}
