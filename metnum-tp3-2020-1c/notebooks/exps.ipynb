{
 "cells": [
  {
   "cell_type": "code",
   "execution_count": 2,
   "metadata": {},
   "outputs": [],
   "source": [
    "from main import *\n"
   ]
  },
  {
   "cell_type": "code",
   "execution_count": 3,
   "metadata": {},
   "outputs": [],
   "source": [
    "train_df_original = pd.read_csv('../data/train.csv')\n",
    "train_df = train_df_original.copy()"
   ]
  },
  {
   "cell_type": "code",
   "execution_count": 19,
   "metadata": {},
   "outputs": [],
   "source": [
    "test_df_original = pd.read_csv('../data/test.csv')\n",
    "test_df = test_df_original.copy()"
   ]
  },
  {
   "cell_type": "code",
   "execution_count": 32,
   "metadata": {},
   "outputs": [],
   "source": [
    "segments = ['urbana']\n",
    "text_features = ['titulo', 'descripcion']\n",
    "features = ['metroscubiertos', 'mejorciudad']\n",
    "predict_column = 'precio'\n",
    "carititud_column = 'carititud'\n"
   ]
  },
  {
   "cell_type": "code",
   "execution_count": 33,
   "metadata": {},
   "outputs": [],
   "source": [
    "drops(train_df)\n",
    "train_df = feats.newfeats(train_df)\n"
   ]
  },
  {
   "cell_type": "code",
   "execution_count": 34,
   "metadata": {},
   "outputs": [
    {
     "name": "stdout",
     "output_type": "stream",
     "text": [
      "reales   (100117,)\n",
      "predicc (100117,)\n",
      "              real   predicted\n",
      "1      3600000.000 3632437.542\n",
      "3       650000.000  553974.368\n",
      "5      1100000.000  980759.157\n",
      "6      1150000.000 1836257.379\n",
      "7      4200000.000 3859957.614\n",
      "...            ...         ...\n",
      "239991 1450000.000  825925.861\n",
      "239993 1650000.000 1988164.856\n",
      "239994 1350000.000 2121419.754\n",
      "239996 1940000.000 2697673.930\n",
      "239998 2890000.000 3277726.895\n",
      "\n",
      "[100117 rows x 2 columns]\n",
      "---------------------------------------\n",
      "        Scores para modelo sin NLP\n",
      "        ---------------------------------------\n",
      "[array([2.43775741e+12, 3.22323544e-01, 3.46927997e-01, 1.01969387e+07,\n",
      "       1.02076747e+06, 9.93358890e+05]), array([2.43018303e+12, 3.45112657e-01, 3.31146587e-01, 1.09300874e+07,\n",
      "       1.06189927e+06, 1.00472946e+06])]\n",
      "[2.43397022e+12 3.33718100e-01 3.39037292e-01 1.05635130e+07\n",
      " 1.04133337e+06 9.99044176e+05]\n",
      "[Pipeline] ............. (step 1 of 3) Processing count, total=  11.8s\n",
      "[Pipeline] .............. (step 2 of 3) Processing desc, total=  18.5s\n"
     ]
    },
    {
     "name": "stderr",
     "output_type": "stream",
     "text": [
      "/home/tomy/.pyenv/versions/3.6.9/envs/py3.6/lib/python3.6/site-packages/sklearn/neural_network/_multilayer_perceptron.py:585: ConvergenceWarning: Stochastic Optimizer: Maximum iterations (50) reached and the optimization hasn't converged yet.\n",
      "  % self.max_iter, ConvergenceWarning)\n"
     ]
    },
    {
     "name": "stdout",
     "output_type": "stream",
     "text": [
      "[Pipeline] ............... (step 3 of 3) Processing reg, total= 2.3min\n",
      "Error calculando metricas en segmento /True:\n",
      "Mean Squared Logarithmic Error cannot be used when targets contain negative values.\n",
      "Error calculando metricas en segmento /True:\n",
      "Mean Squared Logarithmic Error cannot be used when targets contain negative values.\n",
      "Error calculando metricas en segmento /True:\n",
      "Mean Squared Logarithmic Error cannot be used when targets contain negative values.\n",
      "Error calculando metricas en segmento /True:\n",
      "Mean Squared Logarithmic Error cannot be used when targets contain negative values.\n",
      "Error calculando metricas en segmento /False:\n",
      "Mean Squared Logarithmic Error cannot be used when targets contain negative values.\n",
      "Error calculando metricas en segmento /False:\n",
      "Mean Squared Logarithmic Error cannot be used when targets contain negative values.\n",
      "Error calculando metricas en segmento /False:\n",
      "Mean Squared Logarithmic Error cannot be used when targets contain negative values.\n",
      "---------------------------------------\n",
      "        Scores para modelo con NLP\n",
      "        ---------------------------------------\n",
      "   mean_squared_error  mean_squared_log_error  r2_score   max_error  \\\n",
      "0    341040023252.399                   0.061     0.120 1621946.695   \n",
      "\n",
      "       NRMSE  mean_absolute_error  \n",
      "0 135148.423           197591.091  \n",
      "   mean_squared_error  mean_squared_log_error  r2_score   max_error  \\\n",
      "0    818149037176.658                   0.161     0.208 3838521.838   \n",
      "\n",
      "       NRMSE  mean_absolute_error  \n",
      "0 335230.056           452896.616  \n",
      "---------------------------------------\n",
      "        Scores promedio\n",
      "        ---------------------------------------\n",
      "[5.79594530e+11 1.10971059e-01 1.64194328e-01 2.73023427e+06\n",
      " 2.35189239e+05 3.25243854e+05]\n",
      "              real   predicted\n",
      "1      3600000.000 4810926.080\n",
      "3       650000.000  620144.882\n",
      "5      1100000.000 1548912.116\n",
      "6      1150000.000 1816208.038\n",
      "7      4200000.000 3871969.607\n",
      "...            ...         ...\n",
      "239991 1450000.000 1308756.641\n",
      "239993 1650000.000 2796593.118\n",
      "239994 1350000.000 4024903.993\n",
      "239996 1940000.000 2652929.042\n",
      "239998 2890000.000 2905058.558\n",
      "\n",
      "[100117 rows x 2 columns]\n"
     ]
    }
   ],
   "source": [
    "predic = correr(train_df, segments, text_features, features)\n",
    "reales = predic[0]\n",
    "predMod = predic[1]\n",
    "predNLP = predic[2]"
   ]
  },
  {
   "cell_type": "code",
   "execution_count": 35,
   "metadata": {},
   "outputs": [
    {
     "name": "stdout",
     "output_type": "stream",
     "text": [
      "[  51161.09696871   61657.03843676   65527.19041668 ... 6235207.06908048\n",
      " 6235529.58174547 6268095.17650213]\n"
     ]
    },
    {
     "data": {
      "image/png": "[encoded data removed]",
      "text/plain": [
       "<Figure size 432x288 with 1 Axes>"
      ]
     },
     "metadata": {
      "needs_background": "light"
     },
     "output_type": "display_data"
    }
   ],
   "source": [
    "\n",
    "X = np.sort(reales) \n",
    "Y = np.sort(predMod) \n",
    "print(Y)\n",
    "plt.plot(X, color='red', label = 'reales')\n",
    "plt.plot(Y, color='blue', label = 'predicciones Simple')\n",
    "plt.legend()\n",
    "\n",
    "plt.fill_between(np.arange(np.size(X)), X, Y, X>Y, color='pink')\n",
    "plt.fill_between(np.arange(np.size(X)), X, Y, X<Y, color='lightblue')\n",
    "plt.show()"
   ]
  },
  {
   "cell_type": "code",
   "execution_count": 36,
   "metadata": {},
   "outputs": [
    {
     "name": "stdout",
     "output_type": "stream",
     "text": [
      "-1703077.4060222188\n"
     ]
    },
    {
     "data": {
      "image/png": "[encoded data removed]",
      "text/plain": [
       "<Figure size 432x288 with 1 Axes>"
      ]
     },
     "metadata": {
      "needs_background": "light"
     },
     "output_type": "display_data"
    }
   ],
   "source": [
    "X = np.sort(reales) \n",
    "Y = np.sort(predNLP) \n",
    "print(Y[0])\n",
    "plt.plot(X, color='red', label = 'reales')\n",
    "plt.plot(Y, color='blue', label = 'predicciones NLP')\n",
    "plt.legend()\n",
    "\n",
    "plt.fill_between(np.arange(np.size(X)), X, Y, X>Y, color='pink')\n",
    "plt.fill_between(np.arange(np.size(X)), X, Y, X<Y, color='lightblue')\n",
    "plt.show()"
   ]
  },
  {
   "cell_type": "code",
   "execution_count": null,
   "metadata": {},
   "outputs": [],
   "source": []
  }
 ],
 "metadata": {
  "kernelspec": {
   "display_name": "Python 3",
   "language": "python",
   "name": "python3"
  },
  "language_info": {
   "codemirror_mode": {
    "name": "ipython",
    "version": 3
   },
   "file_extension": ".py",
   "mimetype": "text/x-python",
   "name": "python",
   "nbconvert_exporter": "python",
   "pygments_lexer": "ipython3",
   "version": "3.6.9"
  }
 },
 "nbformat": 4,
 "nbformat_minor": 4
}
