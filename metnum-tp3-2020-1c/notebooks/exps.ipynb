{
 "cells": [
  {
   "cell_type": "code",
   "execution_count": 1,
   "metadata": {},
   "outputs": [],
   "source": [
    "from main import *\n"
   ]
  },
  {
   "cell_type": "code",
   "execution_count": 2,
   "metadata": {},
   "outputs": [],
   "source": [
    "train_df_original = pd.read_csv('../data/train.csv')\n",
    "train_df = train_df_original.copy()"
   ]
  },
  {
   "cell_type": "code",
   "execution_count": 3,
   "metadata": {},
   "outputs": [],
   "source": [
    "test_df_original = pd.read_csv('../data/test.csv')\n",
    "test_df = test_df_original.copy()"
   ]
  },
  {
   "cell_type": "code",
   "execution_count": 4,
   "metadata": {},
   "outputs": [],
   "source": [
    "segments = ['urbana', 'piscina']\n",
    "text_features = ['titulo', 'descripcion']\n",
    "features = ['metroscubiertos', 'mejorciudad']\n",
    "predict_column = 'precio'\n",
    "carititud_column = 'carititud'\n"
   ]
  },
  {
   "cell_type": "code",
   "execution_count": 5,
   "metadata": {},
   "outputs": [],
   "source": [
    "drops(train_df)\n",
    "train_df = feats.newfeats(train_df)\n"
   ]
  },
  {
   "cell_type": "code",
   "execution_count": 6,
   "metadata": {},
   "outputs": [
    {
     "name": "stdout",
     "output_type": "stream",
     "text": [
      "Error calculando metricas en segmento /True/1.0:\n",
      "Mean Squared Logarithmic Error cannot be used when targets contain negative values.\n",
      "Error calculando metricas en segmento /True/1.0:\n",
      "Mean Squared Logarithmic Error cannot be used when targets contain negative values.\n",
      "Error calculando metricas en segmento /True/1.0:\n",
      "Mean Squared Logarithmic Error cannot be used when targets contain negative values.\n",
      "Error calculando metricas en segmento /True/1.0:\n",
      "Mean Squared Logarithmic Error cannot be used when targets contain negative values.\n",
      "Error calculando metricas en segmento /True/1.0:\n",
      "Mean Squared Logarithmic Error cannot be used when targets contain negative values.\n",
      "reales   (100117,)\n",
      "predicc (100117,)\n",
      "              real   predicted\n",
      "1      3600000.000 3504793.898\n",
      "3       650000.000  498357.817\n",
      "5      1100000.000  955424.042\n",
      "6      1150000.000 1792626.511\n",
      "7      4200000.000 3779902.664\n",
      "...            ...         ...\n",
      "239991 1450000.000  785363.447\n",
      "239993 1650000.000 1955210.825\n",
      "239994 1350000.000 2086741.219\n",
      "239996 1940000.000 2601298.812\n",
      "239998 2890000.000 3173705.068\n",
      "\n",
      "[100117 rows x 2 columns]\n",
      "---------------------------------------\n",
      "        Scores para modelo sin NLP\n",
      "        ---------------------------------------\n",
      "[array([2.14516462e+12, 3.20144231e-01, 3.67965982e-01, 1.02713807e+07,\n",
      "       9.57581331e+05, 9.25679549e+05, 4.58073646e+01]), array([0., 0., 0., 0., 0., 0., 0.]), array([2.33768042e+12, 3.42411426e-01, 3.33976300e-01, 1.09662425e+07,\n",
      "       1.04906903e+06, 9.74270024e+05, 5.31420560e+01]), array([4.30643097e+12, 3.79050176e-01, 6.68086877e-02, 9.09663145e+06,\n",
      "       1.33631438e+06, 1.38528375e+06, 3.92943524e+01])]\n",
      "[2.19731900e+12 2.60401458e-01 1.92187743e-01 7.58356366e+06\n",
      " 8.35741186e+05 8.21308330e+05 3.45609432e+01]\n"
     ]
    }
   ],
   "source": [
    "predic = correr(train_df, segments, text_features, features, nlp=False)\n",
    "reales = predic[0]\n",
    "predMod = predic[1]\n",
    "predNLP = predic[2]"
   ]
  },
  {
   "cell_type": "code",
   "execution_count": null,
   "metadata": {},
   "outputs": [],
   "source": []
  },
  {
   "cell_type": "code",
   "execution_count": 7,
   "metadata": {},
   "outputs": [
    {
     "name": "stdout",
     "output_type": "stream",
     "text": [
      "[-252177.45306143 -252177.45306143 -208202.70342995 ... 6250733.47837529\n",
      " 6281849.95120122 6283429.7088775 ]\n"
     ]
    },
    {
     "data": {
      "image/png": "[encoded data removed]",
      "text/plain": [
       "<Figure size 432x288 with 1 Axes>"
      ]
     },
     "metadata": {
      "needs_background": "light"
     },
     "output_type": "display_data"
    }
   ],
   "source": [
    "\n",
    "X = np.sort(reales) \n",
    "Y = np.sort(predMod) \n",
    "print(Y)\n",
    "plt.plot(X, color='red', label = 'reales')\n",
    "plt.plot(Y, color='blue', label = 'predicciones Simple')\n",
    "plt.legend()\n",
    "\n",
    "plt.fill_between(np.arange(np.size(X)), X, Y, X>Y, color='pink')\n",
    "plt.fill_between(np.arange(np.size(X)), X, Y, X<Y, color='lightblue')\n",
    "plt.show()"
   ]
  },
  {
   "cell_type": "code",
   "execution_count": 8,
   "metadata": {},
   "outputs": [
    {
     "ename": "IndexError",
     "evalue": "index 0 is out of bounds for axis 0 with size 0",
     "output_type": "error",
     "traceback": [
      "\u001b[0;31m---------------------------------------------------------------------------\u001b[0m",
      "\u001b[0;31mIndexError\u001b[0m                                Traceback (most recent call last)",
      "\u001b[0;32m<ipython-input-8-216f8ccdc710>\u001b[0m in \u001b[0;36m<module>\u001b[0;34m\u001b[0m\n\u001b[1;32m      1\u001b[0m \u001b[0mX\u001b[0m \u001b[0;34m=\u001b[0m \u001b[0mnp\u001b[0m\u001b[0;34m.\u001b[0m\u001b[0msort\u001b[0m\u001b[0;34m(\u001b[0m\u001b[0mreales\u001b[0m\u001b[0;34m)\u001b[0m\u001b[0;34m\u001b[0m\u001b[0;34m\u001b[0m\u001b[0m\n\u001b[1;32m      2\u001b[0m \u001b[0mY\u001b[0m \u001b[0;34m=\u001b[0m \u001b[0mnp\u001b[0m\u001b[0;34m.\u001b[0m\u001b[0msort\u001b[0m\u001b[0;34m(\u001b[0m\u001b[0mpredNLP\u001b[0m\u001b[0;34m)\u001b[0m\u001b[0;34m\u001b[0m\u001b[0;34m\u001b[0m\u001b[0m\n\u001b[0;32m----> 3\u001b[0;31m \u001b[0mprint\u001b[0m\u001b[0;34m(\u001b[0m\u001b[0mY\u001b[0m\u001b[0;34m[\u001b[0m\u001b[0;36m0\u001b[0m\u001b[0;34m]\u001b[0m\u001b[0;34m)\u001b[0m\u001b[0;34m\u001b[0m\u001b[0;34m\u001b[0m\u001b[0m\n\u001b[0m\u001b[1;32m      4\u001b[0m \u001b[0mplt\u001b[0m\u001b[0;34m.\u001b[0m\u001b[0mplot\u001b[0m\u001b[0;34m(\u001b[0m\u001b[0mX\u001b[0m\u001b[0;34m,\u001b[0m \u001b[0mcolor\u001b[0m\u001b[0;34m=\u001b[0m\u001b[0;34m'red'\u001b[0m\u001b[0;34m,\u001b[0m \u001b[0mlabel\u001b[0m \u001b[0;34m=\u001b[0m \u001b[0;34m'reales'\u001b[0m\u001b[0;34m)\u001b[0m\u001b[0;34m\u001b[0m\u001b[0;34m\u001b[0m\u001b[0m\n\u001b[1;32m      5\u001b[0m \u001b[0mplt\u001b[0m\u001b[0;34m.\u001b[0m\u001b[0mplot\u001b[0m\u001b[0;34m(\u001b[0m\u001b[0mY\u001b[0m\u001b[0;34m,\u001b[0m \u001b[0mcolor\u001b[0m\u001b[0;34m=\u001b[0m\u001b[0;34m'blue'\u001b[0m\u001b[0;34m,\u001b[0m \u001b[0mlabel\u001b[0m \u001b[0;34m=\u001b[0m \u001b[0;34m'predicciones NLP'\u001b[0m\u001b[0;34m)\u001b[0m\u001b[0;34m\u001b[0m\u001b[0;34m\u001b[0m\u001b[0m\n",
      "\u001b[0;31mIndexError\u001b[0m: index 0 is out of bounds for axis 0 with size 0"
     ]
    }
   ],
   "source": [
    "X = np.sort(reales) \n",
    "Y = np.sort(predNLP) \n",
    "\n",
    "plt.plot(X, color='red', label = 'reales')\n",
    "plt.plot(Y, color='blue', label = 'predicciones NLP')\n",
    "plt.legend()\n",
    "\n",
    "plt.fill_between(np.arange(np.size(X)), X, Y, X>Y, color='pink')\n",
    "plt.fill_between(np.arange(np.size(X)), X, Y, X<Y, color='lightblue')\n",
    "plt.show()"
   ]
  }
 ],
 "metadata": {
  "kernelspec": {
   "display_name": "Python 3",
   "language": "python",
   "name": "python3"
  },
  "language_info": {
   "codemirror_mode": {
    "name": "ipython",
    "version": 3
   },
   "file_extension": ".py",
   "mimetype": "text/x-python",
   "name": "python",
   "nbconvert_exporter": "python",
   "pygments_lexer": "ipython3",
   "version": "3.6.9"
  }
 },
 "nbformat": 4,
 "nbformat_minor": 4
}
