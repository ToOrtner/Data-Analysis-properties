{
 "cells": [
  {
   "cell_type": "code",
   "execution_count": 2,
   "metadata": {},
   "outputs": [],
   "source": [
    "from main import experiments"
   ]
  },
  {
   "cell_type": "code",
   "execution_count": 15,
   "metadata": {},
   "outputs": [],
   "source": [
    "segments = ['urbana', 'calurosa', 'parachicos']\n",
    "text_features = ['titulo', 'descripcion']\n",
    "features = ['metroscubiertos', 'mejorciudad', 'antiguedad']\n",
    "predict_column = 'precio'\n",
    "carititud_column = 'carititud'\n"
   ]
  },
  {
   "cell_type": "code",
   "execution_count": 17,
   "metadata": {},
   "outputs": [
    {
     "name": "stdout",
     "output_type": "stream",
     "text": [
      "Error calculando metricas en segmento /True/False/False:\n",
      "Mean Squared Logarithmic Error cannot be used when targets contain negative values.\n",
      "Error calculando metricas en segmento /True/False/False:\n",
      "Mean Squared Logarithmic Error cannot be used when targets contain negative values.\n",
      "Error calculando metricas en segmento /True/False/False:\n",
      "Mean Squared Logarithmic Error cannot be used when targets contain negative values.\n",
      "Error calculando metricas en segmento /True/False/False:\n",
      "Mean Squared Logarithmic Error cannot be used when targets contain negative values.\n",
      "Error calculando metricas en segmento /True/False/False:\n",
      "Mean Squared Logarithmic Error cannot be used when targets contain negative values.\n",
      "Error calculando metricas en segmento /True/True/False:\n",
      "Mean Squared Logarithmic Error cannot be used when targets contain negative values.\n",
      "Error calculando metricas en segmento /True/True/False:\n",
      "Mean Squared Logarithmic Error cannot be used when targets contain negative values.\n",
      "Error calculando metricas en segmento /True/True/False:\n",
      "Mean Squared Logarithmic Error cannot be used when targets contain negative values.\n",
      "Error calculando metricas en segmento /True/True/False:\n",
      "Mean Squared Logarithmic Error cannot be used when targets contain negative values.\n",
      "Error calculando metricas en segmento /True/True/False:\n",
      "Mean Squared Logarithmic Error cannot be used when targets contain negative values.\n",
      "Error calculando metricas en segmento /False/False/False:\n",
      "Mean Squared Logarithmic Error cannot be used when targets contain negative values.\n",
      "Error calculando metricas en segmento /False/True/False:\n",
      "Mean Squared Logarithmic Error cannot be used when targets contain negative values.\n",
      "Error calculando metricas en segmento /False/True/False:\n",
      "Mean Squared Logarithmic Error cannot be used when targets contain negative values.\n",
      "Error calculando metricas en segmento /False/True/False:\n",
      "Mean Squared Logarithmic Error cannot be used when targets contain negative values.\n",
      "Error calculando metricas en segmento /False/True/False:\n",
      "Mean Squared Logarithmic Error cannot be used when targets contain negative values.\n",
      "Error calculando metricas en segmento /False/True/False:\n",
      "Mean Squared Logarithmic Error cannot be used when targets contain negative values.\n",
      "              real   predicted\n",
      "1      3600000.000 3856663.576\n",
      "3       650000.000  455403.357\n",
      "5      1100000.000  900837.246\n",
      "7      4200000.000 3750738.987\n",
      "10      488000.000 1353228.582\n",
      "...            ...         ...\n",
      "239991 1450000.000  572901.102\n",
      "239993 1650000.000 1969761.358\n",
      "239994 1350000.000 2091307.481\n",
      "239996 1940000.000 2827038.422\n",
      "239998 2890000.000 3493385.176\n",
      "\n",
      "[85508 rows x 2 columns]\n",
      "---------------------------------------\n",
      "        Scores para modelo sin NLP\n",
      "        ---------------------------------------\n",
      "[array([2.16202025e+12, 2.87205195e-01, 3.76496666e-01, 9.58582039e+06,\n",
      "       8.55094386e+05, 1.02501748e+06]), array([0., 0., 0., 0., 0., 0.]), array([0., 0., 0., 0., 0., 0.]), array([3.31936245e+12, 2.15526908e-01, 3.16741535e-01, 8.07513750e+06,\n",
      "       9.66211326e+05, 1.27071049e+06]), array([1.74479599e+12, 2.70938132e-01, 2.78694198e-01, 8.20910361e+06,\n",
      "       8.24230064e+05, 7.41461320e+05]), array([1.73659952e+12, 3.46140651e-01, 3.19370914e-01, 7.25277841e+06,\n",
      "       7.89063896e+05, 9.97176965e+05]), array([0., 0., 0., 0., 0., 0.]), array([2.14485780e+12, 2.10802571e-01, 2.58083477e-01, 6.38801466e+06,\n",
      "       7.39525522e+05, 1.04962134e+06])]\n",
      "[1.38845450e+12 1.66326682e-01 1.93673349e-01 4.93885682e+06\n",
      " 5.21765649e+05 6.35498449e+05]\n",
      "[Pipeline] ............. (step 1 of 3) Processing count, total=  10.4s\n",
      "[Pipeline] .............. (step 2 of 3) Processing desc, total=  16.1s\n"
     ]
    },
    {
     "name": "stderr",
     "output_type": "stream",
     "text": [
      "/home/tomy/.pyenv/versions/3.6.9/envs/py3.6/lib/python3.6/site-packages/sklearn/neural_network/_multilayer_perceptron.py:585: ConvergenceWarning: Stochastic Optimizer: Maximum iterations (50) reached and the optimization hasn't converged yet.\n",
      "  % self.max_iter, ConvergenceWarning)\n"
     ]
    },
    {
     "name": "stdout",
     "output_type": "stream",
     "text": [
      "[Pipeline] ............... (step 3 of 3) Processing reg, total= 2.2min\n",
      "Error calculando metricas en segmento /True/False/False:\n",
      "Mean Squared Logarithmic Error cannot be used when targets contain negative values.\n",
      "Error calculando metricas en segmento /True/False/False:\n",
      "Mean Squared Logarithmic Error cannot be used when targets contain negative values.\n",
      "Error calculando metricas en segmento /True/False/False:\n",
      "Mean Squared Logarithmic Error cannot be used when targets contain negative values.\n",
      "Error calculando metricas en segmento /True/False/False:\n",
      "Mean Squared Logarithmic Error cannot be used when targets contain negative values.\n",
      "Error calculando metricas en segmento /True/False/False:\n",
      "Mean Squared Logarithmic Error cannot be used when targets contain negative values.\n",
      "Error calculando metricas en segmento /True/True/False:\n",
      "Mean Squared Logarithmic Error cannot be used when targets contain negative values.\n",
      "Error calculando metricas en segmento /True/True/False:\n",
      "Mean Squared Logarithmic Error cannot be used when targets contain negative values.\n",
      "Error calculando metricas en segmento /True/True/False:\n",
      "Mean Squared Logarithmic Error cannot be used when targets contain negative values.\n",
      "Error calculando metricas en segmento /True/True/False:\n",
      "Mean Squared Logarithmic Error cannot be used when targets contain negative values.\n",
      "Error calculando metricas en segmento /True/True/False:\n",
      "Mean Squared Logarithmic Error cannot be used when targets contain negative values.\n",
      "Error calculando metricas en segmento /True/True/True:\n",
      "Mean Squared Logarithmic Error cannot be used when targets contain negative values.\n",
      "Error calculando metricas en segmento /False/False/False:\n",
      "Mean Squared Logarithmic Error cannot be used when targets contain negative values.\n",
      "---------------------------------------\n",
      "        Scores para modelo con NLP\n",
      "        ---------------------------------------\n",
      "   mean_squared_error  mean_squared_log_error  r2_score   max_error  \\\n",
      "0   2038017005336.900                   0.312     0.517 7789882.568   \n",
      "\n",
      "       NRMSE  mean_absolute_error  \n",
      "0 737768.903          1137383.367  \n",
      "   mean_squared_error  mean_squared_log_error  r2_score  max_error  NRMSE  \\\n",
      "0               0.000                   0.000     0.000      0.000  0.000   \n",
      "\n",
      "   mean_absolute_error  \n",
      "0                0.000  \n",
      "   mean_squared_error  mean_squared_log_error  r2_score  max_error  NRMSE  \\\n",
      "0               0.000                   0.000     0.000      0.000  0.000   \n",
      "\n",
      "   mean_absolute_error  \n",
      "0                0.000  \n",
      "   mean_squared_error  mean_squared_log_error  r2_score   max_error  \\\n",
      "0   2310431010857.105                   0.208     0.359 4768659.080   \n",
      "\n",
      "       NRMSE  mean_absolute_error  \n",
      "0 641597.970          1133541.653  \n",
      "   mean_squared_error  mean_squared_log_error  r2_score   max_error  \\\n",
      "0   1478953983465.616                   0.326     0.434 7562706.632   \n",
      "\n",
      "       NRMSE  mean_absolute_error  \n",
      "0 639135.787           850515.763  \n",
      "   mean_squared_error  mean_squared_log_error  r2_score   max_error  \\\n",
      "0   2389342010770.026                   0.438     0.317 6994543.388   \n",
      "\n",
      "       NRMSE  mean_absolute_error  \n",
      "0 965415.234          1303779.303  \n",
      "   mean_squared_error  mean_squared_log_error  r2_score   max_error  \\\n",
      "0   2276989117458.863                   0.237     0.578 6340860.539   \n",
      "\n",
      "       NRMSE  mean_absolute_error  \n",
      "0 667065.778          1175077.519  \n",
      "   mean_squared_error  mean_squared_log_error  r2_score   max_error  \\\n",
      "0   3269139106303.891                   0.355     0.001 4327399.848   \n",
      "\n",
      "        NRMSE  mean_absolute_error  \n",
      "0 1047483.276          1589280.544  \n",
      "---------------------------------------\n",
      "        Scores promedio\n",
      "        ---------------------------------------\n",
      "[1.72035903e+12 2.34573201e-01 2.75716413e-01 4.72300651e+06\n",
      " 5.87308368e+05 8.98697269e+05]\n",
      "              real   predicted\n",
      "1      3600000.000 5412187.662\n",
      "3       650000.000  618004.871\n",
      "5      1100000.000 1865292.981\n",
      "7      4200000.000 3980187.271\n",
      "10      488000.000 1187227.114\n",
      "...            ...         ...\n",
      "239991 1450000.000 1223300.295\n",
      "239993 1650000.000 3374076.965\n",
      "239994 1350000.000 3448659.543\n",
      "239996 1940000.000 3259123.123\n",
      "239998 2890000.000 3608831.786\n",
      "\n",
      "[85508 rows x 2 columns]\n"
     ]
    }
   ],
   "source": [
    "experiments(segments, text_features, features)"
   ]
  },
  {
   "cell_type": "code",
   "execution_count": null,
   "metadata": {},
   "outputs": [],
   "source": [
    "X = np.sort(predictions['Villa'][1][:, 0]) #aproximado\n",
    "Y = np.sort(predictions['Villa'][1][:, 1]) #real\n",
    "\n",
    "plt.plot(X, color='red')\n",
    "plt.plot(Y, color='blue')\n",
    "\n",
    "\n",
    "plt.fill_between(np.arange(np.size(X)), X, Y, X>Y, color='pink')\n",
    "plt.fill_between(np.arange(np.size(X)), X, Y, X<Y, color='lightblue')"
   ]
  },
  {
   "cell_type": "code",
   "execution_count": 18,
   "metadata": {},
   "outputs": [
    {
     "ename": "NameError",
     "evalue": "name 'train_df' is not defined",
     "output_type": "error",
     "traceback": [
      "\u001b[0;31m---------------------------------------------------------------------------\u001b[0m",
      "\u001b[0;31mNameError\u001b[0m                                 Traceback (most recent call last)",
      "\u001b[0;32m<ipython-input-18-ef797c2b3b5b>\u001b[0m in \u001b[0;36m<module>\u001b[0;34m\u001b[0m\n\u001b[0;32m----> 1\u001b[0;31m \u001b[0mtrain_df\u001b[0m\u001b[0;34m\u001b[0m\u001b[0;34m\u001b[0m\u001b[0m\n\u001b[0m",
      "\u001b[0;31mNameError\u001b[0m: name 'train_df' is not defined"
     ]
    }
   ],
   "source": [
    "train_df"
   ]
  }
 ],
 "metadata": {
  "kernelspec": {
   "display_name": "Python 3",
   "language": "python",
   "name": "python3"
  },
  "language_info": {
   "codemirror_mode": {
    "name": "ipython",
    "version": 3
   },
   "file_extension": ".py",
   "mimetype": "text/x-python",
   "name": "python",
   "nbconvert_exporter": "python",
   "pygments_lexer": "ipython3",
   "version": "3.6.9"
  }
 },
 "nbformat": 4,
 "nbformat_minor": 4
}
