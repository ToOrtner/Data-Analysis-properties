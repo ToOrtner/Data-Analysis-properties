{
 "cells": [
  {
   "cell_type": "code",
   "execution_count": 2,
   "metadata": {},
   "outputs": [],
   "source": [
    "from main import *\n"
   ]
  },
  {
   "cell_type": "code",
   "execution_count": 3,
   "metadata": {},
   "outputs": [],
   "source": [
    "train_df_original = pd.read_csv('../data/train.csv')\n",
    "train_df = train_df_original.copy()"
   ]
  },
  {
   "cell_type": "code",
   "execution_count": 19,
   "metadata": {},
   "outputs": [],
   "source": [
    "test_df_original = pd.read_csv('../data/test.csv')\n",
    "test_df = test_df_original.copy()"
   ]
  },
  {
   "cell_type": "code",
   "execution_count": 37,
   "metadata": {},
   "outputs": [],
   "source": [
    "segments = ['urbana']\n",
    "text_features = ['titulo', 'descripcion']\n",
    "features = ['metroscubiertos']\n",
    "predict_column = 'precio'\n",
    "carititud_column = 'carititud'\n"
   ]
  },
  {
   "cell_type": "code",
   "execution_count": 33,
   "metadata": {},
   "outputs": [],
   "source": [
    "drops(train_df)\n",
    "train_df = feats.newfeats(train_df)\n"
   ]
  },
  {
   "cell_type": "code",
   "execution_count": 38,
   "metadata": {},
   "outputs": [
    {
     "name": "stdout",
     "output_type": "stream",
     "text": [
      "reales   (100117,)\n",
      "predicc (100117,)\n",
      "              real   predicted\n",
      "1      3600000.000 3852421.888\n",
      "3       650000.000  905606.638\n",
      "5      1100000.000  999745.015\n",
      "6      1150000.000 1866190.694\n",
      "7      4200000.000 3905670.524\n",
      "...            ...         ...\n",
      "239991 1450000.000  977480.181\n",
      "239993 1650000.000 1999490.029\n",
      "239994 1350000.000 2132789.365\n",
      "239996 1940000.000 2874941.708\n",
      "239998 2890000.000 3378056.506\n",
      "\n",
      "[100117 rows x 2 columns]\n",
      "---------------------------------------\n",
      "        Scores para modelo sin NLP\n",
      "        ---------------------------------------\n",
      "[array([2.35330072e+12, 3.32706396e-01, 3.69491876e-01, 1.00274400e+07,\n",
      "       9.85423119e+05, 1.02048370e+06]), array([2.42191133e+12, 3.48235851e-01, 3.33414214e-01, 1.08997051e+07,\n",
      "       1.05828763e+06, 1.01004040e+06])]\n",
      "[2.38760603e+12 3.40471124e-01 3.51453045e-01 1.04635726e+07\n",
      " 1.02185537e+06 1.01526205e+06]\n",
      "[Pipeline] ............. (step 1 of 3) Processing count, total=  11.8s\n",
      "[Pipeline] .............. (step 2 of 3) Processing desc, total=  18.1s\n"
     ]
    },
    {
     "name": "stderr",
     "output_type": "stream",
     "text": [
      "/home/tomy/.pyenv/versions/3.6.9/envs/py3.6/lib/python3.6/site-packages/sklearn/neural_network/_multilayer_perceptron.py:585: ConvergenceWarning: Stochastic Optimizer: Maximum iterations (50) reached and the optimization hasn't converged yet.\n",
      "  % self.max_iter, ConvergenceWarning)\n"
     ]
    },
    {
     "name": "stdout",
     "output_type": "stream",
     "text": [
      "[Pipeline] ............... (step 3 of 3) Processing reg, total= 2.3min\n",
      "Error calculando metricas en segmento /True:\n",
      "Mean Squared Logarithmic Error cannot be used when targets contain negative values.\n",
      "---------------------------------------\n",
      "        Scores para modelo con NLP\n",
      "        ---------------------------------------\n",
      "   mean_squared_error  mean_squared_log_error  r2_score   max_error  \\\n",
      "0   1497551655410.024                   0.288     0.449 6688540.251   \n",
      "\n",
      "       NRMSE  mean_absolute_error  \n",
      "0 591206.082           861398.955  \n",
      "   mean_squared_error  mean_squared_log_error  r2_score   max_error  \\\n",
      "0   2085810159448.250                   0.425     0.507 9689354.395   \n",
      "\n",
      "       NRMSE  mean_absolute_error  \n",
      "0 851640.474          1155517.274  \n",
      "---------------------------------------\n",
      "        Scores promedio\n",
      "        ---------------------------------------\n",
      "[1.79168091e+12 3.56420056e-01 4.77866557e-01 8.18894732e+06\n",
      " 7.21423278e+05 1.00845811e+06]\n",
      "              real   predicted\n",
      "1      3600000.000 4498625.935\n",
      "3       650000.000  885273.027\n",
      "5      1100000.000 1493880.927\n",
      "6      1150000.000 1936003.580\n",
      "7      4200000.000 4146869.790\n",
      "...            ...         ...\n",
      "239991 1450000.000 1195857.121\n",
      "239993 1650000.000 4294501.511\n",
      "239994 1350000.000 4195911.399\n",
      "239996 1940000.000 2927011.299\n",
      "239998 2890000.000 3831788.787\n",
      "\n",
      "[100117 rows x 2 columns]\n"
     ]
    }
   ],
   "source": [
    "predic = correr(train_df, segments, text_features, features)\n",
    "reales = predic[0]\n",
    "predMod = predic[1]\n",
    "predNLP = predic[2]"
   ]
  },
  {
   "cell_type": "code",
   "execution_count": 39,
   "metadata": {},
   "outputs": [
    {
     "name": "stdout",
     "output_type": "stream",
     "text": [
      "[ 199949.0029337   199949.0029337   199949.0029337  ... 6310497.04810026\n",
      " 6310497.04810026 6310497.04810026]\n"
     ]
    },
    {
     "data": {
      "image/png": "[encoded data removed]",
      "text/plain": [
       "<Figure size 432x288 with 1 Axes>"
      ]
     },
     "metadata": {
      "needs_background": "light"
     },
     "output_type": "display_data"
    }
   ],
   "source": [
    "\n",
    "X = np.sort(reales) \n",
    "Y = np.sort(predMod) \n",
    "print(Y)\n",
    "plt.plot(X, color='red', label = 'reales')\n",
    "plt.plot(Y, color='blue', label = 'predicciones Simple')\n",
    "plt.legend()\n",
    "\n",
    "plt.fill_between(np.arange(np.size(X)), X, Y, X>Y, color='pink')\n",
    "plt.fill_between(np.arange(np.size(X)), X, Y, X<Y, color='lightblue')\n",
    "plt.show()"
   ]
  },
  {
   "cell_type": "code",
   "execution_count": 40,
   "metadata": {},
   "outputs": [
    {
     "name": "stdout",
     "output_type": "stream",
     "text": [
      "-2614474.6701830314\n"
     ]
    },
    {
     "data": {
      "image/png": "[encoded data removed]",
      "text/plain": [
       "<Figure size 432x288 with 1 Axes>"
      ]
     },
     "metadata": {
      "needs_background": "light"
     },
     "output_type": "display_data"
    }
   ],
   "source": [
    "X = np.sort(reales) \n",
    "Y = np.sort(predNLP) \n",
    "print(Y[0])\n",
    "plt.plot(X, color='red', label = 'reales')\n",
    "plt.plot(Y, color='blue', label = 'predicciones NLP')\n",
    "plt.legend()\n",
    "\n",
    "plt.fill_between(np.arange(np.size(X)), X, Y, X>Y, color='pink')\n",
    "plt.fill_between(np.arange(np.size(X)), X, Y, X<Y, color='lightblue')\n",
    "plt.show()"
   ]
  },
  {
   "cell_type": "code",
   "execution_count": null,
   "metadata": {},
   "outputs": [],
   "source": []
  }
 ],
 "metadata": {
  "kernelspec": {
   "display_name": "Python 3",
   "language": "python",
   "name": "python3"
  },
  "language_info": {
   "codemirror_mode": {
    "name": "ipython",
    "version": 3
   },
   "file_extension": ".py",
   "mimetype": "text/x-python",
   "name": "python",
   "nbconvert_exporter": "python",
   "pygments_lexer": "ipython3",
   "version": "3.6.9"
  }
 },
 "nbformat": 4,
 "nbformat_minor": 4
}
