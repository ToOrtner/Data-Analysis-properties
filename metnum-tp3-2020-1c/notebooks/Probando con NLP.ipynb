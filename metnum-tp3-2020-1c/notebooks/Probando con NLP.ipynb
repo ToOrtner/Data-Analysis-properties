{
 "cells": [
  {
   "cell_type": "code",
   "execution_count": 8,
   "metadata": {},
   "outputs": [],
   "source": [
    "import metnum\n",
    "import pandas as pd\n",
    "import seaborn as sns\n",
    "import numpy as np\n",
    "import matplotlib.pyplot as plt\n",
    "from time import time\n",
    "from pprint import pprint\n",
    "from Model import Model\n",
    "from Segment import Segment\n",
    "from NlpModel import NlpModel\n",
    "\n",
    "from sklearn.feature_extraction.text import CountVectorizer\n",
    "from sklearn.neural_network import MLPRegressor\n",
    "from sklearn.metrics import mean_squared_error as RMSE, mean_squared_log_error as RMSLE, balanced_accuracy_score as BAS, make_scorer\n",
    "from sklearn.preprocessing import scale, normalize\n",
    "from sklearn.decomposition import PCA, TruncatedSVD\n",
    "from sklearn.model_selection import train_test_split, StratifiedKFold, KFold\n",
    "from sklearn.feature_extraction.text import TfidfTransformer\n",
    "from sklearn.linear_model import SGDClassifier\n",
    "from sklearn.model_selection import GridSearchCV, RandomizedSearchCV\n",
    "from sklearn.pipeline import Pipeline\n",
    "from sklearn.neighbors import KNeighborsClassifier\n",
    "from xgboost import XGBClassifier, XGBRegressor"
   ]
  },
  {
   "cell_type": "code",
   "execution_count": 2,
   "metadata": {},
   "outputs": [],
   "source": [
    "df_original = pd.read_csv('../data/train.csv')\n",
    "df = df_original.copy()\n",
    "\n",
    "df['urbana'] = (df['escuelascercanas'] > 0) & (df['centroscomercialescercanos'] > 0 )\n",
    "\n",
    "train_df, test_df = train_test_split(df, test_size=0.2, random_state=1)"
   ]
  },
  {
   "cell_type": "code",
   "execution_count": 3,
   "metadata": {},
   "outputs": [],
   "source": [
    "# Dropeo las huertas porque solo hay una\n",
    "train_df = train_df.drop(train_df[train_df['tipodepropiedad'] == 'Huerta'].index)\n",
    "# Dropeo las quintas vacacionales porque solo los precios son cualquiera\n",
    "train_df = train_df.drop(train_df[train_df['tipodepropiedad'] == 'Quinta Vacacional'].index)\n",
    "# Dropeo los ranchos porque solo los precios son cualquiera\n",
    "train_df = train_df.drop(train_df[train_df['tipodepropiedad'] == 'Rancho'].index)"
   ]
  },
  {
   "cell_type": "code",
   "execution_count": 4,
   "metadata": {},
   "outputs": [],
   "source": [
    "predict_column = 'precio'\n",
    "carititud_column = \"carititud\"\n",
    "segments = ['urbana', 'provincia']\n",
    "text_features = ['titulo', 'descripcion']\n",
    "features = ['metrostotales', 'metroscubiertos', 'garages']"
   ]
  },
  {
   "cell_type": "markdown",
   "metadata": {},
   "source": [
    "## Calculo de Hiper parametros\n",
    "---"
   ]
  },
  {
   "cell_type": "code",
   "execution_count": 9,
   "metadata": {},
   "outputs": [],
   "source": [
    "def sonCaras(precios):\n",
    "    mean = precios.mean()\n",
    "    min_val = precios.min()\n",
    "    max_val = precios.max()\n",
    "    return np.array([esCara(p, mean, max_val, min_val) for p in precios])\n",
    "    \n",
    "def esCara(precio, mean, max_val, min_val):\n",
    "    if precio > mean:\n",
    "        if precio > mean + (max_val - mean) / 2:\n",
    "            return 3\n",
    "        else:\n",
    "            return 2\n",
    "    else:\n",
    "        if precio > min_val + (mean - min_val) / 2:\n",
    "            return 1\n",
    "        else:\n",
    "            return 0\n",
    "        \n",
    "train_df[carititud_column] = sonCaras(train_df[predict_column].values)\n"
   ]
  },
  {
   "cell_type": "markdown",
   "metadata": {},
   "source": [
    "## Buscando predecir el precio directamente"
   ]
  },
  {
   "cell_type": "code",
   "execution_count": 12,
   "metadata": {},
   "outputs": [],
   "source": [
    "# A parameter grid for the pipeline\n",
    "params = {\n",
    "    # Bag of Words\n",
    "    'count__min_df': [2, 5, 10],\n",
    "    'count__max_features': [200, 500, 1000, 5000],\n",
    "\n",
    "    # Descompositer\n",
    "    'desc__n_components': [100, 500, 1000],\n",
    "\n",
    "    # Classificator\n",
    "    'reg__solver': ['sgd', 'adam'],\n",
    "    'reg__max_iter': [50, 100],\n",
    "    'reg__hidden_layer_sizes': [(100,), (50,20), (50)]  \n",
    "}\n",
    "\n",
    "folds = 3\n",
    "param_comb = 1\n",
    "\n",
    "# Uso KFold porque son valores continuos\n",
    "kf = KFold(n_splits=folds, shuffle=True, random_state = 1001)\n",
    "\n",
    "pipeline_reg = Pipeline([\n",
    "    ('count', CountVectorizer()),\n",
    "    ('desc', TruncatedSVD()),\n",
    "    ('reg', MLPRegressor())\n",
    "])\n",
    "\n",
    "x_train = train_df[text_features + segments + features]\n",
    "y_train = train_df[predict_column]\n",
    "\n",
    "random_search_reg = RandomizedSearchCV(\n",
    "    pipeline_reg, param_distributions=params, n_iter=param_comb, scoring='neg_mean_squared_error', \n",
    "    n_jobs=-1, cv=kf.split(x_train, y_train), random_state=1001, verbose=3\n",
    ")"
   ]
  },
  {
   "cell_type": "code",
   "execution_count": null,
   "metadata": {},
   "outputs": [],
   "source": [
    "random_search_reg.fit(x_train[:100], y_train[:100])"
   ]
  },
  {
   "cell_type": "code",
   "execution_count": null,
   "metadata": {},
   "outputs": [],
   "source": [
    "estimator_reg = random_search_reg.best_estimator_"
   ]
  },
  {
   "cell_type": "code",
   "execution_count": null,
   "metadata": {},
   "outputs": [],
   "source": [
    "estimator_reg.score(x_test, y_test)"
   ]
  },
  {
   "cell_type": "code",
   "execution_count": 65,
   "metadata": {},
   "outputs": [
    {
     "name": "stdout",
     "output_type": "stream",
     "text": [
      "1.01E+00\n"
     ]
    },
    {
     "data": {
      "text/html": [
       "<div>\n",
       "<style scoped>\n",
       "    .dataframe tbody tr th:only-of-type {\n",
       "        vertical-align: middle;\n",
       "    }\n",
       "\n",
       "    .dataframe tbody tr th {\n",
       "        vertical-align: top;\n",
       "    }\n",
       "\n",
       "    .dataframe thead th {\n",
       "        text-align: right;\n",
       "    }\n",
       "</style>\n",
       "<table border=\"1\" class=\"dataframe\">\n",
       "  <thead>\n",
       "    <tr style=\"text-align: right;\">\n",
       "      <th></th>\n",
       "      <th>real</th>\n",
       "      <th>pred</th>\n",
       "    </tr>\n",
       "  </thead>\n",
       "  <tbody>\n",
       "    <tr>\n",
       "      <th>0</th>\n",
       "      <td>0.539</td>\n",
       "      <td>1.072</td>\n",
       "    </tr>\n",
       "    <tr>\n",
       "      <th>1</th>\n",
       "      <td>0.214</td>\n",
       "      <td>0.951</td>\n",
       "    </tr>\n",
       "    <tr>\n",
       "      <th>2</th>\n",
       "      <td>0.330</td>\n",
       "      <td>0.940</td>\n",
       "    </tr>\n",
       "    <tr>\n",
       "      <th>3</th>\n",
       "      <td>0.097</td>\n",
       "      <td>0.945</td>\n",
       "    </tr>\n",
       "    <tr>\n",
       "      <th>4</th>\n",
       "      <td>0.309</td>\n",
       "      <td>1.242</td>\n",
       "    </tr>\n",
       "    <tr>\n",
       "      <th>...</th>\n",
       "      <td>...</td>\n",
       "      <td>...</td>\n",
       "    </tr>\n",
       "    <tr>\n",
       "      <th>1995</th>\n",
       "      <td>0.214</td>\n",
       "      <td>0.892</td>\n",
       "    </tr>\n",
       "    <tr>\n",
       "      <th>1996</th>\n",
       "      <td>0.283</td>\n",
       "      <td>1.070</td>\n",
       "    </tr>\n",
       "    <tr>\n",
       "      <th>1997</th>\n",
       "      <td>0.701</td>\n",
       "      <td>1.013</td>\n",
       "    </tr>\n",
       "    <tr>\n",
       "      <th>1998</th>\n",
       "      <td>0.840</td>\n",
       "      <td>1.083</td>\n",
       "    </tr>\n",
       "    <tr>\n",
       "      <th>1999</th>\n",
       "      <td>0.376</td>\n",
       "      <td>0.987</td>\n",
       "    </tr>\n",
       "  </tbody>\n",
       "</table>\n",
       "<p>2000 rows × 2 columns</p>\n",
       "</div>"
      ],
      "text/plain": [
       "      real  pred\n",
       "0    0.539 1.072\n",
       "1    0.214 0.951\n",
       "2    0.330 0.940\n",
       "3    0.097 0.945\n",
       "4    0.309 1.242\n",
       "...    ...   ...\n",
       "1995 0.214 0.892\n",
       "1996 0.283 1.070\n",
       "1997 0.701 1.013\n",
       "1998 0.840 1.083\n",
       "1999 0.376 0.987\n",
       "\n",
       "[2000 rows x 2 columns]"
      ]
     },
     "execution_count": 65,
     "metadata": {},
     "output_type": "execute_result"
    }
   ],
   "source": [
    "real = test_df[predict_column]\n",
    "predicted = estimator_reg.predict(test_df[text_features + segments + features])\n",
    "to_show = pd.DataFrame()\n",
    "pd.set_option('display.float_format', lambda x: '%.3f' % x)\n",
    "to_show[\"real\"] = real\n",
    "to_show[\"pred\"] = predicted\n",
    "to_show"
   ]
  },
  {
   "cell_type": "markdown",
   "metadata": {},
   "source": [
    "## Probando con Clasificadores"
   ]
  },
  {
   "cell_type": "code",
   "execution_count": 28,
   "metadata": {},
   "outputs": [],
   "source": [
    "\n",
    "# A parameter grid for the pipeline\n",
    "params = {\n",
    "    # Bag of Words\n",
    "    'count__min_df': [2, 5, 10],\n",
    "    'count__max_features': [200, 500, 1000, 5000],\n",
    "\n",
    "    # Descompositer\n",
    "    'desc__n_components': [100, 500, 1000],\n",
    "\n",
    "    # Classificator\n",
    "    'clf__min_child_weight': [1, 5, 10],\n",
    "    'clf__gamma': [0.5, 1, 1.5, 2, 5],\n",
    "    'clf__subsample': [0.6, 0.8, 1.0],\n",
    "    'clf__colsample_bytree': [0.6, 0.8, 1.0],\n",
    "    'clf__max_depth': [3, 5, 7, 10],\n",
    "    'clf__learning_rate': [0.01, 0.02, 0.05]    \n",
    "}\n",
    "\n",
    "folds = 3\n",
    "param_comb = 1\n",
    "\n",
    "skf = StratifiedKFold(n_splits=folds, shuffle = True, random_state = 1001)\n",
    "\n",
    "\n",
    "xgb = XGBClassifier(learning_rate=0.02, n_estimators=1000, \n",
    "                    silent=True, nthread=6, tree_method='gpu_hist')\n",
    "\n",
    "pipeline = Pipeline([\n",
    "    ('count', CountVectorizer()),\n",
    "    ('desc', TruncatedSVD()),\n",
    "    ('clf', xgb)\n",
    "])\n",
    "\n",
    "random_search = RandomizedSearchCV(\n",
    "    pipeline, param_distributions=params, n_iter=param_comb, scoring=make_scorer(BAS), \n",
    "    n_jobs=-1, cv=skf.split(x_train,y_train), random_state=1001\n",
    ")\n",
    "\n",
    "\n",
    "## Resultado \n",
    "best_params = {\n",
    "    'clf__colsample_bytree': 0.6,\n",
    "    'clf__gamma': 2,\n",
    "    'clf__learning_rate': 0.05,\n",
    "    'clf__max_depth': 7,\n",
    "    'clf__min_child_weight': 10,\n",
    "    'clf__subsample': 1.0,\n",
    "    'count__max_features': 1000,\n",
    "    'count__min_df': 5,\n",
    "    'desc__n_components': 100\n",
    "}"
   ]
  },
  {
   "cell_type": "code",
   "execution_count": 29,
   "metadata": {},
   "outputs": [
    {
     "name": "stdout",
     "output_type": "stream",
     "text": [
      "[15:31:35] WARNING: /workspace/src/learner.cc:480: \n",
      "Parameters: { silent } might not be used.\n",
      "\n",
      "  This may not be accurate due to some parameters are only used in language bindings but\n",
      "  passed down to XGBoost core.  Or some parameters are not used but slip through this\n",
      "  verification. Please open an issue if you find above cases.\n",
      "\n",
      "\n"
     ]
    },
    {
     "data": {
      "text/plain": [
       "RandomizedSearchCV(cv=<generator object _BaseKFold.split at 0x7ff824009c50>,\n",
       "                   estimator=Pipeline(steps=[('count', CountVectorizer()),\n",
       "                                             ('tfid', TfidfTransformer()),\n",
       "                                             ('clf',\n",
       "                                              XGBClassifier(base_score=None,\n",
       "                                                            booster=None,\n",
       "                                                            colsample_bylevel=None,\n",
       "                                                            colsample_bynode=None,\n",
       "                                                            colsample_bytree=None,\n",
       "                                                            gamma=None,\n",
       "                                                            gpu_id=None,\n",
       "                                                            importance_type='gain',\n",
       "                                                            interaction_constraints=None,\n",
       "                                                            lear...\n",
       "                                                            n_estimators=1000,\n",
       "                                                            n_jobs=None,\n",
       "                                                            nthread=6,\n",
       "                                                            num_parallel_tree=None,\n",
       "                                                            random_state=None,\n",
       "                                                            reg_alpha=None,\n",
       "                                                            reg_lambda=None,\n",
       "                                                            scale_pos_weight=None,\n",
       "                                                            silent=True,\n",
       "                                                            subsample=None,\n",
       "                                                            tree_method='gpu_hist',\n",
       "                                                            validate_parameters=None,\n",
       "                                                            verbosity=None))]),\n",
       "                   n_iter=1, n_jobs=2,\n",
       "                   param_distributions={'clf__min_child_weight': [1, 5, 10]},\n",
       "                   random_state=1001,\n",
       "                   scoring=make_scorer(balanced_accuracy_score))"
      ]
     },
     "execution_count": 29,
     "metadata": {},
     "output_type": "execute_result"
    }
   ],
   "source": [
    "random_search.fit(x_train[:100], y_train[:100])"
   ]
  },
  {
   "cell_type": "code",
   "execution_count": 188,
   "metadata": {},
   "outputs": [],
   "source": [
    "estimator = random_search.best_estimator_"
   ]
  },
  {
   "cell_type": "code",
   "execution_count": 190,
   "metadata": {},
   "outputs": [
    {
     "data": {
      "text/plain": [
       "0.37900874635568516"
      ]
     },
     "execution_count": 190,
     "metadata": {},
     "output_type": "execute_result"
    }
   ],
   "source": [
    "estimator.score(x_test, y_test)"
   ]
  },
  {
   "cell_type": "code",
   "execution_count": 114,
   "metadata": {},
   "outputs": [
    {
     "name": "stdout",
     "output_type": "stream",
     "text": [
      "1.92E+00\n"
     ]
    },
    {
     "data": {
      "text/html": [
       "<div>\n",
       "<style scoped>\n",
       "    .dataframe tbody tr th:only-of-type {\n",
       "        vertical-align: middle;\n",
       "    }\n",
       "\n",
       "    .dataframe tbody tr th {\n",
       "        vertical-align: top;\n",
       "    }\n",
       "\n",
       "    .dataframe thead th {\n",
       "        text-align: right;\n",
       "    }\n",
       "</style>\n",
       "<table border=\"1\" class=\"dataframe\">\n",
       "  <thead>\n",
       "    <tr style=\"text-align: right;\">\n",
       "      <th></th>\n",
       "      <th>real</th>\n",
       "      <th>pred</th>\n",
       "    </tr>\n",
       "  </thead>\n",
       "  <tbody>\n",
       "    <tr>\n",
       "      <th>30578</th>\n",
       "      <td>1</td>\n",
       "      <td>3</td>\n",
       "    </tr>\n",
       "  </tbody>\n",
       "</table>\n",
       "</div>"
      ],
      "text/plain": [
       "       real  pred\n",
       "30578     1     3"
      ]
     },
     "execution_count": 114,
     "metadata": {},
     "output_type": "execute_result"
    }
   ],
   "source": [
    "real = y_test\n",
    "predicted = estimator.predict(x_test)\n",
    "to_show = pd.DataFrame()\n",
    "pd.set_option('display.float_format', lambda x: '%.3f' % x)\n",
    "to_show[\"real\"] = real\n",
    "to_show[\"pred\"] = predicted\n",
    "to_show[to_show[\"pred\"]==3]"
   ]
  }
 ],
 "metadata": {
  "kernelspec": {
   "display_name": "Python 3",
   "language": "python",
   "name": "python3"
  },
  "language_info": {
   "codemirror_mode": {
    "name": "ipython",
    "version": 3
   },
   "file_extension": ".py",
   "mimetype": "text/x-python",
   "name": "python",
   "nbconvert_exporter": "python",
   "pygments_lexer": "ipython3",
   "version": "3.7.5"
  }
 },
 "nbformat": 4,
 "nbformat_minor": 4
}
