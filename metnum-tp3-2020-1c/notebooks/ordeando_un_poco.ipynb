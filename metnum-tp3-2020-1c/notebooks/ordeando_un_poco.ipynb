{
 "cells": [
  {
   "cell_type": "markdown",
   "metadata": {},
   "source": [
    "# Ordenando un toque:\n",
    "    - Lo que buscamos es encontrar algún (o algunos) modelos que nos permitan aproximar alguna de las columnas del dataset (si, alguna).\n",
    "    - Si o si tenemos que hacerlo co nla columna \"precio\", pero además tenemos que elgir otra (está en el enunciado).\n",
    "    \n",
    "    - Separemos los tantos:\n",
    "        - Feature Engeniere es algo que vamos a hacer POR FUERA de todo lo que es la ejecución, es decir, cuando nosotros hagamos fit + predict + loquesea, esta nueva columna no tiene idea de que es nueva, asi que esto no nos importa tanto (para lo que es la ejecucion pura y dura)\n",
    "       \n",
    "        - Segmentación + K-fold + errores, es algo que nos interesa DENTRO de la ejecución.\n",
    "        - Ejecutar 1 vez y tomar metricas, no estaría bueno, por lo que ya sabemos (overfitting), entonces no nos queda otra más que para cada segmento, realizar el KFold, callcular las métricas en cada Fold, y guardar el promedio de esas métricas (nos queda un array de metricas promedio en cada segmento).\n",
    "        - ¿Donde empieza el prolema? En que para cada Fold, los valores de los factores de la ecuación de la recta (esos que obtenemos cuando hacemos fit) van a cambiar siempre, porque para cada \"cacho\" de dataset, estas cambian.\n",
    "        - ¿Nos importa realmente? Obviamente googlie esto porque estaba medio perdido, y la respuesta es que no (a priori). Lo primero que a nosotros nos interesa saber, es si nuestro modelo \"esta bueno\", es decir, si el error total es bajo (comparando distintas métricas y demas). Esto no nos da las variables \"finales\", una vez que definimos que algún modelo funciona bien, recién ahí ejecutamos la regresión con TODOS los datos, y no quedamos con los factores resultantes (si usamos segmentación, seria un conjunto de factores para cada segmento, y para predecír deberíamos saber determinar a que segmento pertenece)\n",
    "        \n",
    "        \n",
    "Esto lo saque de acá:\n",
    "https://stats.stackexchange.com/questions/52274/how-to-choose-a-predictive-model-after-k-fold-cross-validation\n",
    "https://stats.stackexchange.com/questions/2306/feature-selection-for-final-model-when-performing-cross-validation-in-machine?rq=1\n",
    "\n",
    "Por si estoy entendiendo cualquier cosa."
   ]
  },
  {
   "cell_type": "code",
   "execution_count": 6,
   "metadata": {},
   "outputs": [],
   "source": [
    "import metnum\n",
    "import pandas as pd\n",
    "import seaborn as sns\n",
    "import numpy as np\n",
    "import matplotlib.pyplot as plt\n",
    "from Model import Model\n",
    "from Segment import Segment"
   ]
  },
  {
   "cell_type": "code",
   "execution_count": 2,
   "metadata": {},
   "outputs": [],
   "source": [
    "df_original = pd.read_csv('../data/train.csv')\n",
    "df = df_original.copy()"
   ]
  },
  {
   "cell_type": "code",
   "execution_count": null,
   "metadata": {},
   "outputs": [],
   "source": [
    "model1 = Model(['metroscubiertos'], ['provincia', 'ciudad'])\n",
    "segments = model1.regresionar(df_original)"
   ]
  },
  {
   "cell_type": "code",
   "execution_count": 8,
   "metadata": {},
   "outputs": [
    {
     "data": {
      "text/plain": [
       "array([1583174423235.7422, 0.40323317870103476], dtype=object)"
      ]
     },
     "execution_count": 8,
     "metadata": {},
     "output_type": "execute_result"
    }
   ],
   "source": [
    "model1.error_gral()"
   ]
  },
  {
   "cell_type": "code",
   "execution_count": 5,
   "metadata": {},
   "outputs": [
    {
     "name": "stdout",
     "output_type": "stream",
     "text": [
      "<class 'pandas.core.frame.DataFrame'>\n",
      "RangeIndex: 240000 entries, 0 to 239999\n",
      "Data columns (total 23 columns):\n",
      " #   Column                      Non-Null Count   Dtype  \n",
      "---  ------                      --------------   -----  \n",
      " 0   id                          240000 non-null  int64  \n",
      " 1   titulo                      234613 non-null  object \n",
      " 2   descripcion                 238381 non-null  object \n",
      " 3   tipodepropiedad             239954 non-null  object \n",
      " 4   direccion                   186928 non-null  object \n",
      " 5   ciudad                      239628 non-null  object \n",
      " 6   provincia                   239845 non-null  object \n",
      " 7   antiguedad                  196445 non-null  float64\n",
      " 8   habitaciones                217529 non-null  float64\n",
      " 9   garages                     202235 non-null  float64\n",
      " 10  banos                       213779 non-null  float64\n",
      " 11  metroscubiertos             222600 non-null  float64\n",
      " 12  metrostotales               188533 non-null  float64\n",
      " 13  idzona                      211379 non-null  float64\n",
      " 14  lat                         116512 non-null  float64\n",
      " 15  lng                         116512 non-null  float64\n",
      " 16  fecha                       240000 non-null  object \n",
      " 17  gimnasio                    240000 non-null  float64\n",
      " 18  usosmultiples               240000 non-null  float64\n",
      " 19  piscina                     240000 non-null  float64\n",
      " 20  escuelascercanas            240000 non-null  float64\n",
      " 21  centroscomercialescercanos  240000 non-null  float64\n",
      " 22  precio                      240000 non-null  float64\n",
      "dtypes: float64(15), int64(1), object(7)\n",
      "memory usage: 42.1+ MB\n"
     ]
    }
   ],
   "source": [
    "df.info()"
   ]
  }
 ],
 "metadata": {
  "kernelspec": {
   "display_name": "Python 3",
   "language": "python",
   "name": "python3"
  },
  "language_info": {
   "codemirror_mode": {
    "name": "ipython",
    "version": 3
   },
   "file_extension": ".py",
   "mimetype": "text/x-python",
   "name": "python",
   "nbconvert_exporter": "python",
   "pygments_lexer": "ipython3",
   "version": "3.6.5"
  }
 },
 "nbformat": 4,
 "nbformat_minor": 4
}
