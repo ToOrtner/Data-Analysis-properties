{
 "cells": [
  {
   "cell_type": "markdown",
   "metadata": {},
   "source": [
    "# Ordenando un toque:\n",
    "    - Lo que buscamos es encontrar algún (o algunos) modelos que nos permitan aproximar alguna de las columnas del dataset (si, alguna).\n",
    "    - Si o si tenemos que hacerlo co nla columna \"precio\", pero además tenemos que elgir otra (está en el enunciado).\n",
    "    \n",
    "    - Separemos los tantos:\n",
    "        - Feature Engeniere es algo que vamos a hacer POR FUERA de todo lo que es la ejecución, es decir, cuando nosotros hagamos fit + predict + loquesea, esta nueva columna no tiene idea de que es nueva, asi que esto no nos importa tanto (para lo que es la ejecucion pura y dura)\n",
    "       \n",
    "        - Segmentación + K-fold + errores, es algo que nos interesa DENTRO de la ejecución.\n",
    "        - Ejecutar 1 vez y tomar metricas, no estaría bueno, por lo que ya sabemos (overfitting), entonces no nos queda otra más que para cada segmento, realizar el KFold, callcular las métricas en cada Fold, y guardar el promedio de esas métricas (nos queda un array de metricas promedio en cada segmento).\n",
    "        - ¿Donde empieza el prolema? En que para cada Fold, los valores de los factores de la ecuación de la recta (esos que obtenemos cuando hacemos fit) van a cambiar siempre, porque para cada \"cacho\" de dataset, estas cambian.\n",
    "        - ¿Nos importa realmente? Obviamente googlie esto porque estaba medio perdido, y la respuesta es que no (a priori). Lo primero que a nosotros nos interesa saber, es si nuestro modelo \"esta bueno\", es decir, si el error total es bajo (comparando distintas métricas y demas). Esto no nos da las variables \"finales\", una vez que definimos que algún modelo funciona bien, recién ahí ejecutamos la regresión con TODOS los datos, y no quedamos con los factores resultantes (si usamos segmentación, seria un conjunto de factores para cada segmento, y para predecír deberíamos saber determinar a que segmento pertenece)\n",
    "        \n",
    "        \n",
    "Esto lo saque de acá:\n",
    "https://stats.stackexchange.com/questions/52274/how-to-choose-a-predictive-model-after-k-fold-cross-validation\n",
    "https://stats.stackexchange.com/questions/2306/feature-selection-for-final-model-when-performing-cross-validation-in-machine?rq=1\n",
    "\n",
    "Por si estoy entendiendo cualquier cosa."
   ]
  },
  {
   "cell_type": "code",
   "execution_count": 2,
   "metadata": {},
   "outputs": [
    {
     "name": "stderr",
     "output_type": "stream",
     "text": [
      "/home/diego/.pyenv/versions/3.6.5/envs/metnum-tp3/lib/python3.6/site-packages/pandas/compat/__init__.py:117: UserWarning: Could not import the lzma module. Your installed Python is incomplete. Attempting to use lzma compression will result in a RuntimeError.\n",
      "  warnings.warn(msg)\n"
     ]
    }
   ],
   "source": [
    "import metnum\n",
    "import pandas as pd\n",
    "import seaborn as sns\n",
    "import numpy as np\n",
    "import matplotlib.pyplot as plt\n",
    "from sklearn.model_selection import train_test_split, KFold\n",
    "from sklearn.metrics import mean_squared_error as RMSE, mean_squared_log_error as RMSLE"
   ]
  },
  {
   "cell_type": "code",
   "execution_count": 3,
   "metadata": {},
   "outputs": [],
   "source": [
    "df_original = pd.read_csv('../data/train.csv')\n",
    "df = df_original.copy()"
   ]
  },
  {
   "cell_type": "code",
   "execution_count": 201,
   "metadata": {},
   "outputs": [],
   "source": [
    "class Segment:\n",
    "    def __init__(self, name, linear_regressor, features):\n",
    "        self.name = name\n",
    "        self.linear_regressor = linear_regressor\n",
    "        self.features = features\n",
    "        \n",
    "    def fit(self, A, reales):\n",
    "        self.reales = reales\n",
    "        self.linear_regressor.fit(A, self.reales)\n",
    "\n",
    "    def predict(self, A):\n",
    "        return self.linear_regressor.predict(A)\n",
    "    \n",
    "    def execute(self, A, reales, metrics, k=5):\n",
    "\n",
    "        self.errors = np.zeros_like(metrics)\n",
    "\n",
    "        kf = KFold(n_splits=k, shuffle=True)\n",
    "        for train_index, test_index in kf.split(A):\n",
    "            # Divido en datos de entrenamiento y testeo\n",
    "            A_train, A_test = A[train_index], A[test_index]\n",
    "            reales_train, reales_test = reales[train_index], reales[test_index]\n",
    "            # Fiteo con los de entrenamiento\n",
    "            self.linear_regressor.fit(A_train, reales_train)\n",
    "\n",
    "            # Predigo con los de testeo\n",
    "            aproximados = self.linear_regressor.predict(A_test)\n",
    "            i = 0\n",
    "            # Calculo y guardo las metricas pasadas por parametro\n",
    "            for metric in metrics:\n",
    "                self.errors[i] += metric(reales_test, aproximados)\n",
    "                i += 1\n",
    "        \n",
    "        self.errors /= k\n"
   ]
  },
  {
   "cell_type": "code",
   "execution_count": 202,
   "metadata": {},
   "outputs": [],
   "source": [
    "def regresionPorSegmento(df, segment_column, features, metrics, predict_column='precio'):\n",
    "    segments = np.array([])\n",
    "    \n",
    "    for name in df[segment_column].unique():\n",
    "        # Leo los datos correspondientes al segmeto\n",
    "        df_segment = df[df[segment_column] == name] # Aquellos datos que no contengan la columna, no son tomados en cuenta\n",
    "        \n",
    "        A = df_segment[features].values\n",
    "        precios_reales = df_segment[predict_column].values\n",
    "\n",
    "        # Creo el segmento\n",
    "        segment = Segment(name, metnum.LinearRegression(), features)\n",
    "        #print(f'Segemento: {name} \\n')\n",
    "        # Fit y predict\n",
    "        segment.execute(A, precios_reales, metrics)\n",
    "        \n",
    "        # Guardo el segmento\n",
    "        segments = np.append(segments, segment)\n",
    "\n",
    "    return segments"
   ]
  },
  {
   "cell_type": "code",
   "execution_count": 218,
   "metadata": {},
   "outputs": [],
   "source": [
    "def exec_model(df, segment, features, metrics):\n",
    "    # Limpia los valores con NAN que se vayan a utilizar\n",
    "    df = df.dropna(subset=(features + [segment]))\n",
    "    \n",
    "    return regresionPorSegmento(df, segment, features, metrics)"
   ]
  },
  {
   "cell_type": "code",
   "execution_count": 219,
   "metadata": {},
   "outputs": [],
   "source": [
    "# Modelo fruta\n",
    "df = df_original.copy()\n",
    "segment = 'provincia'\n",
    "features = ['metrostotales', \"metroscubiertos\"]   #'metrostotales', 'metroscubiertos', \"habitaciones\", \"banos\", \"antiguedad\"]\n",
    "\n",
    "metrics = [RMSE]#[RMSE, RMSLE]\n",
    "\n",
    "segments = exec_model(df, segment, features, metrics)"
   ]
  },
  {
   "cell_type": "code",
   "execution_count": 222,
   "metadata": {},
   "outputs": [
    {
     "name": "stdout",
     "output_type": "stream",
     "text": [
      "[4156107885240.9775]\n",
      "[1354412708844.659]\n",
      "[1830182298885.3223]\n",
      "[774634830650.0808]\n",
      "[1431666412229.9932]\n",
      "[388640914289.60803]\n",
      "[407897160163.955]\n",
      "[2506749316086.738]\n",
      "[933856933240.9371]\n",
      "[459247932698.7167]\n",
      "[551484402926.4608]\n",
      "[3092034460481.793]\n",
      "[1150638477418.2314]\n",
      "[956793462736.651]\n",
      "[467064320918.2663]\n",
      "[660033938342.2181]\n",
      "[449915174219.1372]\n",
      "[885650975027.6184]\n",
      "[508837846973.6808]\n",
      "[427616119754.3148]\n",
      "[242556008114.54095]\n",
      "[330958216504.785]\n",
      "[154959573190.17496]\n",
      "[584660761617.0188]\n",
      "[781720470843.069]\n",
      "[230215917367.29623]\n",
      "[334821962388.4232]\n",
      "[440352351412.7943]\n",
      "[771014841369.2185]\n",
      "[221647262635.2679]\n",
      "[1254908871418.5251]\n",
      "[482228833088.6156]\n"
     ]
    }
   ],
   "source": [
    "for s in segments:\n",
    "    print(s.errors)"
   ]
  },
  {
   "cell_type": "code",
   "execution_count": null,
   "metadata": {},
   "outputs": [],
   "source": []
  }
 ],
 "metadata": {
  "kernelspec": {
   "display_name": "Python 3",
   "language": "python",
   "name": "python3"
  },
  "language_info": {
   "codemirror_mode": {
    "name": "ipython",
    "version": 3
   },
   "file_extension": ".py",
   "mimetype": "text/x-python",
   "name": "python",
   "nbconvert_exporter": "python",
   "pygments_lexer": "ipython3",
   "version": "3.6.5"
  }
 },
 "nbformat": 4,
 "nbformat_minor": 4
}
