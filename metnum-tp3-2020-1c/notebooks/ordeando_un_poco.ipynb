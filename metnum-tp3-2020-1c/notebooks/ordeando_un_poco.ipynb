{
 "cells": [
  {
   "cell_type": "markdown",
   "metadata": {},
   "source": [
    "# Ordenando un toque:\n",
    "    - Lo que buscamos es encontrar algún (o algunos) modelos que nos permitan aproximar alguna de las columnas del dataset (si, alguna).\n",
    "    - Si o si tenemos que hacerlo co nla columna \"precio\", pero además tenemos que elgir otra (está en el enunciado).\n",
    "    \n",
    "    - Separemos los tantos:\n",
    "        - Feature Engeniere es algo que vamos a hacer POR FUERA de todo lo que es la ejecución, es decir, cuando nosotros hagamos fit + predict + loquesea, esta nueva columna no tiene idea de que es nueva, asi que esto no nos importa tanto (para lo que es la ejecucion pura y dura)\n",
    "       \n",
    "        - Segmentación + K-fold + errores, es algo que nos interesa DENTRO de la ejecución.\n",
    "        - Ejecutar 1 vez y tomar metricas, no estaría bueno, por lo que ya sabemos (overfitting), entonces no nos queda otra más que para cada segmento, realizar el KFold, callcular las métricas en cada Fold, y guardar el promedio de esas métricas (nos queda un array de metricas promedio en cada segmento).\n",
    "        - ¿Donde empieza el prolema? En que para cada Fold, los valores de los factores de la ecuación de la recta (esos que obtenemos cuando hacemos fit) van a cambiar siempre, porque para cada \"cacho\" de dataset, estas cambian.\n",
    "        - ¿Nos importa realmente? Obviamente googlie esto porque estaba medio perdido, y la respuesta es que no (a priori). Lo primero que a nosotros nos interesa saber, es si nuestro modelo \"esta bueno\", es decir, si el error total es bajo (comparando distintas métricas y demas). Esto no nos da las variables \"finales\", una vez que definimos que algún modelo funciona bien, recién ahí ejecutamos la regresión con TODOS los datos, y no quedamos con los factores resultantes (si usamos segmentación, seria un conjunto de factores para cada segmento, y para predecír deberíamos saber determinar a que segmento pertenece)\n",
    "        \n",
    "        \n",
    "Esto lo saque de acá:\n",
    "https://stats.stackexchange.com/questions/52274/how-to-choose-a-predictive-model-after-k-fold-cross-validation\n",
    "https://stats.stackexchange.com/questions/2306/feature-selection-for-final-model-when-performing-cross-validation-in-machine?rq=1\n",
    "\n",
    "Por si estoy entendiendo cualquier cosa."
   ]
  },
  {
   "cell_type": "code",
   "execution_count": 127,
   "metadata": {},
   "outputs": [],
   "source": [
    "import metnum\n",
    "import pandas as pd\n",
    "import seaborn as sns\n",
    "import numpy as np\n",
    "import matplotlib.pyplot as plt\n",
    "from sklearn.model_selection import train_test_split, KFold\n",
    "from sklearn.metrics import mean_squared_error as RMSE, mean_squared_log_error as RMSLE"
   ]
  },
  {
   "cell_type": "code",
   "execution_count": 2,
   "metadata": {},
   "outputs": [],
   "source": [
    "df_original = pd.read_csv('../data/train.csv')\n",
    "df = df_original.copy()"
   ]
  },
  {
   "cell_type": "code",
   "execution_count": 163,
   "metadata": {},
   "outputs": [],
   "source": [
    "class Segment:\n",
    "    def __init__(self, name, linear_regressor, features):\n",
    "        self.name = name\n",
    "        self.linear_regressor = linear_regressor\n",
    "        self.features = features\n",
    "        \n",
    "    def fit(self, A, reales):\n",
    "        self.reales = reales\n",
    "        self.linear_regressor.fit(A, self.reales)\n",
    "\n",
    "    def predict(self, A):\n",
    "        return self.linear_regressor.predict(A)\n",
    "    \n",
    "    def execute(self, A, reales, metrics, k=5):\n",
    "        # TODO: HACER KFOLD, solo nos interesa guardar los errores.\n",
    "        self.fit(A, reales)\n",
    "        aproximados = self.predict(A)\n",
    "        self.errors = np.ndarray(shape=(len(aproximados), len(metrics)))\n",
    "        i = 0\n",
    "        for metric in metrics:\n",
    "            self.errors[:, i] = metric(reales, aproximados)\n",
    "            i += 1\n",
    "            \n",
    "        \n"
   ]
  },
  {
   "cell_type": "code",
   "execution_count": 166,
   "metadata": {},
   "outputs": [],
   "source": [
    "def regresionPorSegmento(df, segment_column, features, metrics, predict_column='precio'):\n",
    "    segments = np.array([])\n",
    "    \n",
    "    for name in df[segment_column].unique():\n",
    "        # Leo los datos correspondientes al segmeto\n",
    "        df_segment = df[df[segment_column] == name] # Aquellos datos que no contengan la columna, no son tomados en cuenta\n",
    "        \n",
    "        A = df_segment[features].values\n",
    "        precios_reales = df_segment[predict_column].values\n",
    "\n",
    "        # Creo el segmento\n",
    "        segment = Segment(name, metnum.LinearRegression(), features)\n",
    "        #print(f'Segemento: {name} \\n')\n",
    "        # Fit y predict\n",
    "        segment.execute(A, precios_reales, metrics)\n",
    "        \n",
    "        # Guardo el segmento\n",
    "        segments = np.append(segments, segment)\n",
    "\n",
    "    return segments"
   ]
  },
  {
   "cell_type": "code",
   "execution_count": 167,
   "metadata": {},
   "outputs": [],
   "source": [
    "def exec_model(df, segment, features, metrics):\n",
    "    # Limpia los valores con NAN que se vayan a utilizar\n",
    "    df = df[df[segment].notna()]\n",
    "    for f in features:\n",
    "        df = df[df[f].notna()]\n",
    "    \n",
    "    df = df.sort_values(segment)\n",
    "    \n",
    "    return regresionPorSegmento(df, segment, features, metrics)"
   ]
  },
  {
   "cell_type": "code",
   "execution_count": 168,
   "metadata": {},
   "outputs": [],
   "source": [
    "# Modelo fruta\n",
    "df = df_original.copy()\n",
    "segment = 'tipodepropiedad'\n",
    "features = ['banos', \"habitaciones\"]   #'metrostotales', 'metroscubiertos', \"habitaciones\", \"banos\", \"antiguedad\"]\n",
    "\n",
    "metrics = [RMSE]#[RMSE, RMSLE]\n",
    "\n",
    "segments = exec_model(df, segment, features, metrics)\n"
   ]
  },
  {
   "cell_type": "code",
   "execution_count": null,
   "metadata": {},
   "outputs": [],
   "source": []
  }
 ],
 "metadata": {
  "kernelspec": {
   "display_name": "Python 3",
   "language": "python",
   "name": "python3"
  },
  "language_info": {
   "codemirror_mode": {
    "name": "ipython",
    "version": 3
   },
   "file_extension": ".py",
   "mimetype": "text/x-python",
   "name": "python",
   "nbconvert_exporter": "python",
   "pygments_lexer": "ipython3",
   "version": "3.6.5"
  }
 },
 "nbformat": 4,
 "nbformat_minor": 4
}
